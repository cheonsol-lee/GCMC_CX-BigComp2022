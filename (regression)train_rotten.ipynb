{
 "cells": [
  {
   "cell_type": "code",
   "execution_count": 1,
   "id": "a21ea449",
   "metadata": {},
   "outputs": [],
   "source": [
    "%load_ext autoreload\n",
    "%autoreload 2"
   ]
  },
  {
   "cell_type": "code",
   "execution_count": 2,
   "id": "4f64f071",
   "metadata": {},
   "outputs": [
    {
     "name": "stderr",
     "output_type": "stream",
     "text": [
      "Using backend: pytorch\n"
     ]
    }
   ],
   "source": [
    "import time\n",
    "import datetime\n",
    "\n",
    "# 시간 표시 함수\n",
    "def format_time(elapsed):\n",
    "    # 반올림\n",
    "    elapsed_rounded = int(round((elapsed)))\n",
    "    # hh:mm:ss으로 형태 변경\n",
    "    return str(datetime.timedelta(seconds=elapsed_rounded))\n",
    "\n",
    "\n",
    "\"\"\"Training GCMC model on the MovieLens data set.\n",
    "The script loads the full graph to the training device.\n",
    "\"\"\"\n",
    "import os, time\n",
    "import logging\n",
    "import numpy as np\n",
    "import pandas as pd\n",
    "import torch as th\n",
    "import torch.nn as nn\n",
    "from data_rotten import RottenMovie\n",
    "from utils import get_activation, get_optimizer, torch_total_param_num, torch_net_info, MetricLogger"
   ]
  },
  {
   "cell_type": "code",
   "execution_count": 3,
   "id": "6c989c66",
   "metadata": {},
   "outputs": [],
   "source": [
    "import easydict\n",
    "\n",
    "args = easydict.EasyDict({ \n",
    "    \"data_name\":                      \"rotten\", \n",
    "    \"use_one_hot_fea\":                False,\n",
    "    \"gcn_agg_accum\":                  \"stack\",\n",
    "    \"gpu\":                            0,\n",
    "    \"seed\":                           123,\n",
    "    \"data_test_ratio\":                0.1,\n",
    "    \"data_valid_ratio\":               0.1,\n",
    "    \"model_activation\":               'leaky',\n",
    "    \"gcn_dropout\":                    0.7,\n",
    "    \"gcn_agg_norm_symm\":              True,\n",
    "    \"gcn_agg_units\":                  256,\n",
    "    \"gcn_agg_accum\":                  'sum',\n",
    "    \"gcn_out_units\":                  32,\n",
    "    \"gen_r_num_basis_func\":           2,\n",
    "    \"train_max_epoch\":                1000,\n",
    "    \"train_log_interval\":             1,\n",
    "    \"train_valid_interval\":           1,\n",
    "    \"train_optimizer\":                'adam',\n",
    "    \"train_grad_clip\":                1.0,\n",
    "    \"train_lr\":                       0.01,\n",
    "    \"train_min_lr\":                   0.001,\n",
    "    \"train_lr_decay_factor\":          0.5,\n",
    "    \"train_decay_patience\":           25,\n",
    "    \"train_early_stopping_patience\":  50,\n",
    "    \"share_param\":                    False,\n",
    "    \"mix_cpu_gpu\":                    False,\n",
    "    \"minibatch_size\":                 20000,\n",
    "    \"num_workers_per_gpu\":            8,\n",
    "    \"device\":                         0,\n",
    "    \"save_dir\":                       './save/',\n",
    "    \"save_id\":                        1,\n",
    "    \"train_max_iter\":                 2000\n",
    "})"
   ]
  },
  {
   "cell_type": "code",
   "execution_count": 4,
   "id": "4846e832",
   "metadata": {},
   "outputs": [],
   "source": [
    "np.random.seed(args.seed)\n",
    "th.manual_seed(args.seed)\n",
    "\n",
    "if th.cuda.is_available():\n",
    "    th.cuda.manual_seed_all(args.seed)"
   ]
  },
  {
   "cell_type": "code",
   "execution_count": 5,
   "id": "2988a0e5",
   "metadata": {},
   "outputs": [
    {
     "name": "stdout",
     "output_type": "stream",
     "text": [
      "......1: 데이터 로드\n",
      "......3: Train/Valid 분리\n",
      "All rating pairs : 245094\n",
      "\tAll train rating pairs : 216328\n",
      "\t\tTrain rating pairs : 194695\n",
      "\t\tValid rating pairs : 21633\n",
      "\tTest rating pairs  : 28766\n",
      "......4: User/Movie를 Global id에 매핑\n",
      "Total user number = 9821, movie number = 17712\n",
      "......5: features 생성\n",
      "Feature dim: \n",
      "user: torch.Size([9821, 1627])\n",
      "movie: torch.Size([17712, 339])\n",
      "......6: Graph Encoder/Decoder 생성\n",
      "......7: Graph 결과 출력\n",
      "Train enc graph: \t#user:9821\t#movie:17712\t#pairs:194695\n",
      "Train dec graph: \t#user:9821\t#movie:17712\t#pairs:194695\n",
      "Valid enc graph: \t#user:9821\t#movie:17712\t#pairs:21633\n",
      "Valid dec graph: \t#user:9821\t#movie:17712\t#pairs:21633\n",
      "Test enc graph: \t#user:9821\t#movie:17712\t#pairs:28766\n",
      "Test dec graph: \t#user:9821\t#movie:17712\t#pairs:28766\n"
     ]
    }
   ],
   "source": [
    "dataset = RottenMovie(                 \n",
    "             train_data='./data/trainset_filtered.csv',\n",
    "             test_data='./data/testset_filtered.csv',\n",
    "             movie_data = './data/rotten_tomatoes_movies.csv',\n",
    "             user_data = './data/rotten_user_table.csv',\n",
    "             emotion=True,\n",
    "             sentiment=True,\n",
    "\n",
    "             name='rotten', \n",
    "             device=0, \n",
    "             mix_cpu_gpu=False,\n",
    "             use_one_hot_fea=False, \n",
    "             symm=True,\n",
    "             valid_ratio=0.1, \n",
    "             )"
   ]
  },
  {
   "cell_type": "code",
   "execution_count": 6,
   "id": "5273e2a9",
   "metadata": {},
   "outputs": [
    {
     "data": {
      "text/plain": [
       "Graph(num_nodes={'movie': 17712, 'user': 9821},\n",
       "      num_edges={('movie', 'rev-0_5', 'user'): 3032, ('movie', 'rev-11', 'user'): 20134, ('movie', 'rev-12', 'user'): 43945, ('movie', 'rev-13', 'user'): 32352, ('movie', 'rev-14', 'user'): 58307, ('movie', 'rev-15', 'user'): 39957, ('movie', 'rev-16', 'user'): 27766, ('movie', 'rev-17', 'user'): 5480, ('movie', 'rev-18', 'user'): 133882, ('movie', 'rev-19', 'user'): 3928, ('movie', 'rev-1_0', 'user'): 5648, ('movie', 'rev-1_5', 'user'): 11377, ('movie', 'rev-20', 'user'): 18423, ('movie', 'rev-21', 'user'): 5216, ('movie', 'rev-2_0', 'user'): 17699, ('movie', 'rev-2_5', 'user'): 31603, ('movie', 'rev-3_0', 'user'): 30080, ('movie', 'rev-3_5', 'user'): 46477, ('movie', 'rev-4_0', 'user'): 26858, ('movie', 'rev-4_5', 'user'): 4074, ('movie', 'rev-5_0', 'user'): 17847, ('user', '0_5', 'movie'): 3032, ('user', '11', 'movie'): 20134, ('user', '12', 'movie'): 43945, ('user', '13', 'movie'): 32352, ('user', '14', 'movie'): 58307, ('user', '15', 'movie'): 39957, ('user', '16', 'movie'): 27766, ('user', '17', 'movie'): 5480, ('user', '18', 'movie'): 133882, ('user', '19', 'movie'): 3928, ('user', '1_0', 'movie'): 5648, ('user', '1_5', 'movie'): 11377, ('user', '20', 'movie'): 18423, ('user', '21', 'movie'): 5216, ('user', '2_0', 'movie'): 17699, ('user', '2_5', 'movie'): 31603, ('user', '3_0', 'movie'): 30080, ('user', '3_5', 'movie'): 46477, ('user', '4_0', 'movie'): 26858, ('user', '4_5', 'movie'): 4074, ('user', '5_0', 'movie'): 17847},\n",
       "      metagraph=[('movie', 'user', 'rev-0_5'), ('movie', 'user', 'rev-11'), ('movie', 'user', 'rev-12'), ('movie', 'user', 'rev-13'), ('movie', 'user', 'rev-14'), ('movie', 'user', 'rev-15'), ('movie', 'user', 'rev-16'), ('movie', 'user', 'rev-17'), ('movie', 'user', 'rev-18'), ('movie', 'user', 'rev-19'), ('movie', 'user', 'rev-1_0'), ('movie', 'user', 'rev-1_5'), ('movie', 'user', 'rev-20'), ('movie', 'user', 'rev-21'), ('movie', 'user', 'rev-2_0'), ('movie', 'user', 'rev-2_5'), ('movie', 'user', 'rev-3_0'), ('movie', 'user', 'rev-3_5'), ('movie', 'user', 'rev-4_0'), ('movie', 'user', 'rev-4_5'), ('movie', 'user', 'rev-5_0'), ('user', 'movie', '0_5'), ('user', 'movie', '11'), ('user', 'movie', '12'), ('user', 'movie', '13'), ('user', 'movie', '14'), ('user', 'movie', '15'), ('user', 'movie', '16'), ('user', 'movie', '17'), ('user', 'movie', '18'), ('user', 'movie', '19'), ('user', 'movie', '1_0'), ('user', 'movie', '1_5'), ('user', 'movie', '20'), ('user', 'movie', '21'), ('user', 'movie', '2_0'), ('user', 'movie', '2_5'), ('user', 'movie', '3_0'), ('user', 'movie', '3_5'), ('user', 'movie', '4_0'), ('user', 'movie', '4_5'), ('user', 'movie', '5_0')])"
      ]
     },
     "execution_count": 6,
     "metadata": {},
     "output_type": "execute_result"
    }
   ],
   "source": [
    "dataset.train_enc_graph"
   ]
  },
  {
   "cell_type": "code",
   "execution_count": 7,
   "id": "8b6f4775",
   "metadata": {},
   "outputs": [
    {
     "data": {
      "text/plain": [
       "1168170"
      ]
     },
     "execution_count": 7,
     "metadata": {},
     "output_type": "execute_result"
    }
   ],
   "source": [
    "dataset.train_enc_graph.number_of_edges()"
   ]
  },
  {
   "cell_type": "code",
   "execution_count": 11,
   "id": "2fdcf803-8899-4b99-9b46-439e9cd52de6",
   "metadata": {
    "tags": []
   },
   "outputs": [],
   "source": [
    "from train import train\n",
    "\n",
    "args.rating_vals = dataset.rating_values"
   ]
  },
  {
   "cell_type": "code",
   "execution_count": 12,
   "id": "f29d1671-5abd-4746-893a-d764aad1ecc2",
   "metadata": {
    "tags": []
   },
   "outputs": [
    {
     "name": "stdout",
     "output_type": "stream",
     "text": [
      "training...\n",
      "Best Iter Idx=563, Best Valid RMSE=0.7582, Best Test RMSE=0.7389\n",
      "training...\n",
      "Best Iter Idx=871, Best Valid RMSE=0.7560, Best Test RMSE=0.7312\n",
      "  Training epoch took: 0:04:18\n"
     ]
    }
   ],
   "source": [
    "start_time = time.time()\n",
    "\n",
    "best_test_rmse = list()\n",
    "\n",
    "for dim in [75,150]:\n",
    "    rmse_list = list() # 차원별로 list 생성\n",
    "    args.gcn_out_units = dim\n",
    "    print(f\"start dimension: {dim}\")\n",
    "    \n",
    "    mid_time = time.time()\n",
    "    for i in range(1):\n",
    "        args.save_dir = f'./save/feature_es_{dim}/run_{i}'\n",
    "        args.save_id = 'feature_es'\n",
    "        test_rmse = train(args, dataset)\n",
    "        rmse_list.append(test_rmse)\n",
    "        \n",
    "    best_test_rmse.append(rmse_list)\n",
    "    print(\"  1 model time epoch took: {:}\".format(format_time(time.time() - mid_time)))\n",
    "        \n",
    "print(\"  Training epoch took: {:}\".format(format_time(time.time() - start_time)))"
   ]
  },
  {
   "cell_type": "code",
   "execution_count": 13,
   "id": "1c7245d1-cbc1-47b4-bce2-49568d8429b4",
   "metadata": {},
   "outputs": [
    {
     "data": {
      "text/plain": [
       "[[0.738899617866152], [0.7312486534432296]]"
      ]
     },
     "execution_count": 13,
     "metadata": {},
     "output_type": "execute_result"
    }
   ],
   "source": [
    "best_test_rmse"
   ]
  },
  {
   "cell_type": "code",
   "execution_count": null,
   "id": "02bca461-d3b2-4958-bd68-65910cac22a2",
   "metadata": {},
   "outputs": [],
   "source": []
  },
  {
   "cell_type": "code",
   "execution_count": null,
   "id": "bfce6ad4-8c38-431f-9516-9ca29d8d4871",
   "metadata": {
    "tags": []
   },
   "outputs": [],
   "source": [
    "for dim in [75,150,225]:\n",
    "    args.gcn_out_units = dim\n",
    "    for i in range(10):\n",
    "        args.save_dir = f'./save/feature_es_{dim}/run_{i}'\n",
    "        args.save_id = 'feature_es'\n",
    "        train(args, dataset)"
   ]
  },
  {
   "cell_type": "code",
   "execution_count": null,
   "id": "04479576",
   "metadata": {},
   "outputs": [],
   "source": []
  }
 ],
 "metadata": {
  "interpreter": {
   "hash": "ac2eaa0ea0ebeafcc7822e65e46aa9d4f966f30b695406963e145ea4a91cd4fc"
  },
  "kernelspec": {
   "display_name": "Python 3 (ipykernel)",
   "language": "python",
   "name": "python3"
  },
  "language_info": {
   "codemirror_mode": {
    "name": "ipython",
    "version": 3
   },
   "file_extension": ".py",
   "mimetype": "text/x-python",
   "name": "python",
   "nbconvert_exporter": "python",
   "pygments_lexer": "ipython3",
   "version": "3.8.11"
  }
 },
 "nbformat": 4,
 "nbformat_minor": 5
}
