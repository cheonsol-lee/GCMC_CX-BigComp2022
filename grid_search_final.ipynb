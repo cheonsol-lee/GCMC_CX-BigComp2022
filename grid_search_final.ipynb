{
 "cells": [
  {
   "cell_type": "code",
   "execution_count": 1,
   "id": "791b2758-0d02-4752-83a4-4d084af50615",
   "metadata": {},
   "outputs": [
    {
     "name": "stderr",
     "output_type": "stream",
     "text": [
      "Using backend: pytorch\n"
     ]
    }
   ],
   "source": [
    "import time\n",
    "import datetime\n",
    "\n",
    "# 시간 표시 함수\n",
    "def format_time(elapsed):\n",
    "    # 반올림\n",
    "    elapsed_rounded = int(round((elapsed)))\n",
    "    # hh:mm:ss으로 형태 변경\n",
    "    return str(datetime.timedelta(seconds=elapsed_rounded))\n",
    "\n",
    "\n",
    "\"\"\"Training GCMC model on the MovieLens data set.\n",
    "The script loads the full graph to the training device.\n",
    "\"\"\"\n",
    "import os, time\n",
    "import argparse\n",
    "import logging\n",
    "import random\n",
    "import string\n",
    "import numpy as np\n",
    "import pandas as pd\n",
    "import torch as th\n",
    "import torch.nn as nn\n",
    "from data_rotten_v2 import RottenMovie\n",
    "from utils import get_activation, get_optimizer, torch_total_param_num, torch_net_info, MetricLogger"
   ]
  },
  {
   "cell_type": "code",
   "execution_count": 2,
   "id": "8f0ea974-05f9-402a-a686-fc67d24b23a9",
   "metadata": {},
   "outputs": [],
   "source": [
    "import easydict\n",
    "\n",
    "args = easydict.EasyDict({ \n",
    "    \"data_name\":                      \"rotten\", \n",
    "    \"use_one_hot_fea\":                True,\n",
    "    \"gpu\":                            0,\n",
    "    \"seed\":                           123,\n",
    "    \"data_test_ratio\":                0.1,\n",
    "    \"data_valid_ratio\":               0.1,\n",
    "    \"model_activation\":               'leaky',\n",
    "    \"gcn_dropout\":                    0.5,\n",
    "    \"gcn_agg_norm_symm\":              True,\n",
    "    \"gcn_agg_units\":                  32,\n",
    "    \"gcn_agg_accum\":                  'sum',\n",
    "    \"gcn_out_units\":                  32, # 64, 128\n",
    "    \"gen_r_num_basis_func\":           2,\n",
    "    \"train_max_epoch\":                300,\n",
    "    \"train_log_interval\":             5,\n",
    "    \"train_valid_interval\":           5,\n",
    "    \"train_optimizer\":                'adam',\n",
    "    \"train_grad_clip\":                1.0,\n",
    "    \"train_lr\":                       0.01,\n",
    "    \"train_min_lr\":                   0.0008,\n",
    "    \"train_lr_decay_factor\":          0.5,\n",
    "    \"train_decay_patience\":           25,\n",
    "    \"train_early_stopping_patience\":  50,\n",
    "    \"share_param\":                    False,\n",
    "    \"mix_cpu_gpu\":                    False,\n",
    "    \"minibatch_size\":                 40000,\n",
    "    \"num_workers_per_gpu\":            8,\n",
    "    \"device\":                         0,\n",
    "    \"save_dir\":                       './save/',\n",
    "    \"save_id\":                        1,\n",
    "    \"train_max_iter\":                 1000\n",
    "})\n",
    "\n",
    "np.random.seed(args.seed)\n",
    "th.manual_seed(args.seed)\n",
    "\n",
    "if th.cuda.is_available():\n",
    "    th.cuda.manual_seed_all(args.seed)"
   ]
  },
  {
   "cell_type": "code",
   "execution_count": 3,
   "id": "2fd6b548-8b29-4613-875f-9ba7ad361a07",
   "metadata": {},
   "outputs": [
    {
     "name": "stdout",
     "output_type": "stream",
     "text": [
      "......1: 데이터 로드\n",
      "......3: Train/Valid 분리\n",
      "All rating pairs : 245094\n",
      "\tAll train rating pairs : 216328\n",
      "\t\tTrain rating pairs : 194695\n",
      "\t\tValid rating pairs : 21633\n",
      "\tTest rating pairs  : 28766\n",
      "......4: User/Movie를 Global id에 매핑\n",
      "Total user number = 1112, movie number = 8521\n",
      "......5: features 생성\n",
      "Feature dim: \n",
      "user: (1112, 1112)\n",
      "movie: (8521, 8521)\n",
      "......6: Graph Encoder/Decoder 생성\n",
      "rating_values :  [0.5, 1.0, 1.5, 3.5, 3.0, 5.0, 4.0, 2.0, 2.5, 4.5, 16, 17, 18, 19, 20, 21]\n",
      "......7: Graph 결과 출력\n",
      "Train enc graph: \t#user:1112\t#movie:8521\t#pairs:389390\n",
      "Train dec graph: \t#user:1112\t#movie:8521\t#pairs:194695\n",
      "Valid enc graph: \t#user:1112\t#movie:8521\t#pairs:389390\n",
      "Valid dec graph: \t#user:1112\t#movie:8521\t#pairs:21633\n",
      "Test enc graph: \t#user:1112\t#movie:8521\t#pairs:389390\n",
      "Test dec graph: \t#user:1112\t#movie:8521\t#pairs:28766\n",
      "......1: 데이터 로드\n",
      "......3: Train/Valid 분리\n",
      "All rating pairs : 245094\n",
      "\tAll train rating pairs : 216328\n",
      "\t\tTrain rating pairs : 194695\n",
      "\t\tValid rating pairs : 21633\n",
      "\tTest rating pairs  : 28766\n",
      "......4: User/Movie를 Global id에 매핑\n",
      "Total user number = 1112, movie number = 8521\n",
      "......5: features 생성\n",
      "Feature dim: \n",
      "user: (1112, 1112)\n",
      "movie: (8521, 8521)\n",
      "......6: Graph Encoder/Decoder 생성\n",
      "rating_values :  [0.5, 1.0, 1.5, 3.5, 3.0, 5.0, 4.0, 2.0, 2.5, 4.5, 11, 12, 13, 14, 15]\n",
      "......7: Graph 결과 출력\n",
      "Train enc graph: \t#user:1112\t#movie:8521\t#pairs:389390\n",
      "Train dec graph: \t#user:1112\t#movie:8521\t#pairs:194695\n",
      "Valid enc graph: \t#user:1112\t#movie:8521\t#pairs:389390\n",
      "Valid dec graph: \t#user:1112\t#movie:8521\t#pairs:21633\n",
      "Test enc graph: \t#user:1112\t#movie:8521\t#pairs:389390\n",
      "Test dec graph: \t#user:1112\t#movie:8521\t#pairs:28766\n"
     ]
    }
   ],
   "source": [
    "from train import train\n",
    "\n",
    "dataset = RottenMovie(                 \n",
    "             train_data='./data/trainset_filtered.csv',\n",
    "             test_data='./data/testset_filtered.csv',\n",
    "             movie_data = './data/movie_info.csv',\n",
    "             user_data = './data/user_info.csv',\n",
    "             emotion=True,\n",
    "             sentiment=False,\n",
    "\n",
    "             name='rotten', \n",
    "             device=0, \n",
    "             mix_cpu_gpu=False,\n",
    "             use_one_hot_fea=True, \n",
    "             symm=True,\n",
    "             valid_ratio=0.1,\n",
    "             )\n",
    "\n",
    "dataset_es = RottenMovie(                 \n",
    "             train_data='./data/trainset_filtered.csv',\n",
    "             test_data='./data/testset_filtered.csv',\n",
    "             movie_data = './data/movie_info.csv',\n",
    "             user_data = './data/user_info.csv',\n",
    "             emotion=False,\n",
    "             sentiment=True,\n",
    "\n",
    "             name='rotten', \n",
    "             device=0, \n",
    "             mix_cpu_gpu=False,\n",
    "             use_one_hot_fea=True, \n",
    "             symm=True,\n",
    "             valid_ratio=0.1,\n",
    "             )"
   ]
  },
  {
   "cell_type": "code",
   "execution_count": 4,
   "id": "e370ed6d-27a0-4299-aa64-cdaf554b62c3",
   "metadata": {},
   "outputs": [],
   "source": [
    "args.rating_vals = dataset.rating_values\n",
    "args.gcn_dropout = 0.50"
   ]
  },
  {
   "cell_type": "code",
   "execution_count": 5,
   "id": "db3c937d-d280-4b31-a42f-c4283f95fbf5",
   "metadata": {
    "tags": []
   },
   "outputs": [],
   "source": [
    "# bests=100\n",
    "# bests_es=100\n",
    "# start_time = time.time()\n",
    "\n",
    "# for dim in [256]:\n",
    "#     args.gcn_out_units = dim\n",
    "#     for agg in [128]:\n",
    "#         args.gcn_agg_units = agg\n",
    "#         for lr in [0.006*i for i in range(10)]:\n",
    "#             args.train_lr = lr\n",
    "#             args.save_dir = f'./test/test'\n",
    "#             args.save_id = 'new_feature'\n",
    "#             best = train(args, dataset)\n",
    "#             print(\"****************************\")\n",
    "#             args.save_dir = f'./test/test_es'\n",
    "#             args.save_id = 'new_feature_es'\n",
    "#             best_es = train(args, dataset_es)\n",
    "\n",
    "# #             print(best,'  VS  ', best_es)\n",
    "#             if bests>best:\n",
    "#                 bests = best\n",
    "#             if bests_es>best_es:\n",
    "#                 bests_es=best_es\n",
    "                \n",
    "# print(\"  Training epoch took: {:}\".format(format_time(time.time() - start_time)))\n",
    "# print(bests,'  VS  ', bests_es)"
   ]
  },
  {
   "cell_type": "code",
   "execution_count": 9,
   "id": "db8462e7-5905-4ca2-8c31-185e2b72b6d4",
   "metadata": {},
   "outputs": [
    {
     "name": "stdout",
     "output_type": "stream",
     "text": [
      "\n",
      "dim:64\n",
      "1번\n",
      "training...\n",
      "Best Iter Idx=965, Best Valid RMSE=0.7470, Best Test RMSE=0.8422\n",
      "2번\n",
      "training...\n",
      "Best Iter Idx=725, Best Valid RMSE=0.7364, Best Test RMSE=0.8479\n",
      "****************************\n",
      "\n",
      "dim:128\n",
      "1번\n",
      "training...\n",
      "Best Iter Idx=800, Best Valid RMSE=0.7886, Best Test RMSE=0.8745\n",
      "2번\n",
      "training...\n",
      "Best Iter Idx=955, Best Valid RMSE=0.7309, Best Test RMSE=0.8485\n",
      "****************************\n",
      "\n",
      "dim:256\n",
      "1번\n",
      "training...\n",
      "Best Iter Idx=915, Best Valid RMSE=0.7478, Best Test RMSE=0.8462\n",
      "2번\n",
      "training...\n",
      "Best Iter Idx=975, Best Valid RMSE=0.7289, Best Test RMSE=0.8365\n",
      "****************************\n",
      "\n",
      "dim:512\n",
      "1번\n",
      "training...\n",
      "Best Iter Idx=990, Best Valid RMSE=0.7426, Best Test RMSE=0.8326\n",
      "2번\n",
      "training...\n",
      "Best Iter Idx=895, Best Valid RMSE=0.7371, Best Test RMSE=0.8384\n",
      "****************************\n",
      "  Training epoch took: 0:16:03\n",
      "0.8326063362575978   VS   0.8364646532921297\n"
     ]
    }
   ],
   "source": [
    "bests=100\n",
    "bests_es=100\n",
    "\n",
    "bests_list = list()\n",
    "bests_es_list = list()\n",
    "start_time = time.time()\n",
    "\n",
    "for dim in [64,128,256,512]:\n",
    "    args.gcn_out_units = dim\n",
    "    print()\n",
    "    print(f\"dim:{dim}\")\n",
    "    \n",
    "    for agg in [256]:\n",
    "        args.gcn_agg_units = agg\n",
    "        for lr in [0.06]:\n",
    "            print(\"1번\")\n",
    "            args.train_lr = lr\n",
    "            args.save_dir = f'./test/test'\n",
    "            args.save_id = 'new_feature'\n",
    "            best = train(args, dataset)\n",
    "            bests_list.append(best)\n",
    "            \n",
    "            print(\"2번\")\n",
    "            args.save_dir = f'./test/test_es'\n",
    "            args.save_id = 'new_feature_es'\n",
    "            best_es = train(args, dataset_es)\n",
    "            bests_es_list.append(best_es)\n",
    "            \n",
    "            print(\"****************************\")\n",
    "#             print(best,'  VS  ', best_es)\n",
    "            if bests>best:\n",
    "                bests = best\n",
    "            if bests_es>best_es:\n",
    "                bests_es=best_es\n",
    "                \n",
    "print(\"  Training epoch took: {:}\".format(format_time(time.time() - start_time)))\n",
    "print(bests,'  VS  ', bests_es)"
   ]
  },
  {
   "cell_type": "code",
   "execution_count": 7,
   "id": "feec7776-a2c7-42ca-a722-fe44166d630e",
   "metadata": {},
   "outputs": [
    {
     "data": {
      "text/plain": [
       "[0.8347348269545674,\n",
       " 0.8725535387811746,\n",
       " 0.8336509020017829,\n",
       " 0.8317154477541387]"
      ]
     },
     "execution_count": 7,
     "metadata": {},
     "output_type": "execute_result"
    }
   ],
   "source": [
    "bests_list"
   ]
  },
  {
   "cell_type": "code",
   "execution_count": 8,
   "id": "f8ddf79d-4254-4ed1-8b40-c8bf22879b54",
   "metadata": {},
   "outputs": [
    {
     "data": {
      "text/plain": [
       "[0.8520771186496274, 0.8450898023434926, 0.84206848011259, 0.8380634334176944]"
      ]
     },
     "execution_count": 8,
     "metadata": {},
     "output_type": "execute_result"
    }
   ],
   "source": [
    "bests_es_list"
   ]
  },
  {
   "cell_type": "code",
   "execution_count": null,
   "id": "07f9d7f3-e125-4837-8951-db939d261cce",
   "metadata": {},
   "outputs": [],
   "source": []
  }
 ],
 "metadata": {
  "kernelspec": {
   "display_name": "Python 3 (ipykernel)",
   "language": "python",
   "name": "python3"
  },
  "language_info": {
   "codemirror_mode": {
    "name": "ipython",
    "version": 3
   },
   "file_extension": ".py",
   "mimetype": "text/x-python",
   "name": "python",
   "nbconvert_exporter": "python",
   "pygments_lexer": "ipython3",
   "version": "3.8.11"
  }
 },
 "nbformat": 4,
 "nbformat_minor": 5
}
