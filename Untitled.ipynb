{
 "cells": [
  {
   "cell_type": "code",
   "execution_count": 1,
   "id": "91734bc6-2020-4849-9c6f-475597916afe",
   "metadata": {},
   "outputs": [
    {
     "data": {
      "text/plain": [
       "['final_rating(sentiment,emotion).csv',\n",
       " 'l_testset.csv',\n",
       " 'l_testset_removed.csv',\n",
       " 'l_trainset.csv',\n",
       " 'movie_info.csv',\n",
       " 'user_info.csv']"
      ]
     },
     "execution_count": 1,
     "metadata": {},
     "output_type": "execute_result"
    }
   ],
   "source": [
    "import os\n",
    "import numpy as np\n",
    "import pandas as pd\n",
    "\n",
    "path = './data/'\n",
    "os.listdir(path)"
   ]
  },
  {
   "cell_type": "code",
   "execution_count": 2,
   "id": "67174853-fc48-4bee-a472-7d450a83b80a",
   "metadata": {},
   "outputs": [],
   "source": [
    "# csv 파일에서 불러오기\n",
    "# r_cols = ['user_id', 'movie_id', 'rating', 'timestamp']\n",
    "ratings_df = pd.read_csv(path + 'l_trainset.csv')"
   ]
  },
  {
   "cell_type": "code",
   "execution_count": 3,
   "id": "a742ecfc-706a-4ef4-90bc-93d4cae19275",
   "metadata": {},
   "outputs": [
    {
     "data": {
      "text/html": [
       "<div>\n",
       "<style scoped>\n",
       "    .dataframe tbody tr th:only-of-type {\n",
       "        vertical-align: middle;\n",
       "    }\n",
       "\n",
       "    .dataframe tbody tr th {\n",
       "        vertical-align: top;\n",
       "    }\n",
       "\n",
       "    .dataframe thead th {\n",
       "        text-align: right;\n",
       "    }\n",
       "</style>\n",
       "<table border=\"1\" class=\"dataframe\">\n",
       "  <thead>\n",
       "    <tr style=\"text-align: right;\">\n",
       "      <th></th>\n",
       "      <th>user_id</th>\n",
       "      <th>movie_id</th>\n",
       "      <th>review_score</th>\n",
       "      <th>sentiment</th>\n",
       "      <th>emotion</th>\n",
       "      <th>review_date</th>\n",
       "      <th>review_content</th>\n",
       "      <th>origin_rating_5</th>\n",
       "      <th>rating_5</th>\n",
       "      <th>origin_rating_10</th>\n",
       "      <th>rating_10</th>\n",
       "    </tr>\n",
       "  </thead>\n",
       "  <tbody>\n",
       "    <tr>\n",
       "      <th>0</th>\n",
       "      <td>9296</td>\n",
       "      <td>7594</td>\n",
       "      <td>0.600</td>\n",
       "      <td>4</td>\n",
       "      <td>2</td>\n",
       "      <td>1800-01-01</td>\n",
       "      <td>It's exciting to see a British horror film wit...</td>\n",
       "      <td>3.4</td>\n",
       "      <td>3</td>\n",
       "      <td>5.400</td>\n",
       "      <td>5</td>\n",
       "    </tr>\n",
       "    <tr>\n",
       "      <th>1</th>\n",
       "      <td>7403</td>\n",
       "      <td>2494</td>\n",
       "      <td>1.000</td>\n",
       "      <td>3</td>\n",
       "      <td>4</td>\n",
       "      <td>1800-01-01</td>\n",
       "      <td>A grimly seductive end-of-the-world thriller, ...</td>\n",
       "      <td>5.0</td>\n",
       "      <td>5</td>\n",
       "      <td>9.000</td>\n",
       "      <td>9</td>\n",
       "    </tr>\n",
       "    <tr>\n",
       "      <th>2</th>\n",
       "      <td>9296</td>\n",
       "      <td>3644</td>\n",
       "      <td>0.800</td>\n",
       "      <td>1</td>\n",
       "      <td>2</td>\n",
       "      <td>1800-01-01</td>\n",
       "      <td>There aren't many British horror films you cou...</td>\n",
       "      <td>4.2</td>\n",
       "      <td>4</td>\n",
       "      <td>7.200</td>\n",
       "      <td>7</td>\n",
       "    </tr>\n",
       "    <tr>\n",
       "      <th>3</th>\n",
       "      <td>7403</td>\n",
       "      <td>8800</td>\n",
       "      <td>0.700</td>\n",
       "      <td>4</td>\n",
       "      <td>2</td>\n",
       "      <td>1800-01-01</td>\n",
       "      <td>Coming out from behind Spike Lee's camera, Ern...</td>\n",
       "      <td>3.8</td>\n",
       "      <td>4</td>\n",
       "      <td>6.300</td>\n",
       "      <td>6</td>\n",
       "    </tr>\n",
       "    <tr>\n",
       "      <th>4</th>\n",
       "      <td>7629</td>\n",
       "      <td>7374</td>\n",
       "      <td>0.625</td>\n",
       "      <td>3</td>\n",
       "      <td>4</td>\n",
       "      <td>1800-01-01</td>\n",
       "      <td>A comedy western loaded with chuckles that onl...</td>\n",
       "      <td>3.5</td>\n",
       "      <td>4</td>\n",
       "      <td>5.625</td>\n",
       "      <td>6</td>\n",
       "    </tr>\n",
       "  </tbody>\n",
       "</table>\n",
       "</div>"
      ],
      "text/plain": [
       "   user_id  movie_id  review_score  sentiment  emotion review_date  \\\n",
       "0     9296      7594         0.600          4        2  1800-01-01   \n",
       "1     7403      2494         1.000          3        4  1800-01-01   \n",
       "2     9296      3644         0.800          1        2  1800-01-01   \n",
       "3     7403      8800         0.700          4        2  1800-01-01   \n",
       "4     7629      7374         0.625          3        4  1800-01-01   \n",
       "\n",
       "                                      review_content  origin_rating_5  \\\n",
       "0  It's exciting to see a British horror film wit...              3.4   \n",
       "1  A grimly seductive end-of-the-world thriller, ...              5.0   \n",
       "2  There aren't many British horror films you cou...              4.2   \n",
       "3  Coming out from behind Spike Lee's camera, Ern...              3.8   \n",
       "4  A comedy western loaded with chuckles that onl...              3.5   \n",
       "\n",
       "   rating_5  origin_rating_10  rating_10  \n",
       "0         3             5.400          5  \n",
       "1         5             9.000          9  \n",
       "2         4             7.200          7  \n",
       "3         4             6.300          6  \n",
       "4         4             5.625          6  "
      ]
     },
     "execution_count": 3,
     "metadata": {},
     "output_type": "execute_result"
    }
   ],
   "source": [
    "ratings_df.head()"
   ]
  },
  {
   "cell_type": "code",
   "execution_count": 5,
   "id": "75efe922-40ca-42c8-a776-9599cc79ea9c",
   "metadata": {},
   "outputs": [
    {
     "data": {
      "text/plain": [
       "{0, 1, 2, 3, 4, 5, 6, 7, 8, 9}"
      ]
     },
     "execution_count": 5,
     "metadata": {},
     "output_type": "execute_result"
    }
   ],
   "source": [
    "set(ratings_df.rating_10)"
   ]
  },
  {
   "cell_type": "code",
   "execution_count": null,
   "id": "829ae185-434e-480a-8dab-cf235630db9a",
   "metadata": {},
   "outputs": [],
   "source": []
  }
 ],
 "metadata": {
  "kernelspec": {
   "display_name": "Python 3 (ipykernel)",
   "language": "python",
   "name": "python3"
  },
  "language_info": {
   "codemirror_mode": {
    "name": "ipython",
    "version": 3
   },
   "file_extension": ".py",
   "mimetype": "text/x-python",
   "name": "python",
   "nbconvert_exporter": "python",
   "pygments_lexer": "ipython3",
   "version": "3.8.11"
  }
 },
 "nbformat": 4,
 "nbformat_minor": 5
}
