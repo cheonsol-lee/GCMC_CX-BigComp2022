{
 "cells": [
  {
   "cell_type": "code",
   "execution_count": 1,
   "id": "791b2758-0d02-4752-83a4-4d084af50615",
   "metadata": {},
   "outputs": [
    {
     "name": "stderr",
     "output_type": "stream",
     "text": [
      "Using backend: pytorch\n"
     ]
    }
   ],
   "source": [
    "import time\n",
    "import datetime\n",
    "\n",
    "# 시간 표시 함수\n",
    "def format_time(elapsed):\n",
    "    # 반올림\n",
    "    elapsed_rounded = int(round((elapsed)))\n",
    "    # hh:mm:ss으로 형태 변경\n",
    "    return str(datetime.timedelta(seconds=elapsed_rounded))\n",
    "\n",
    "\n",
    "\"\"\"Training GCMC model on the MovieLens data set.\n",
    "The script loads the full graph to the training device.\n",
    "\"\"\"\n",
    "import os, time\n",
    "import argparse\n",
    "import logging\n",
    "import random\n",
    "import string\n",
    "import numpy as np\n",
    "import pandas as pd\n",
    "import torch as th\n",
    "import torch.nn as nn\n",
    "from data_rotten_v2_amazon import RottenMovie\n",
    "from utils import get_activation, get_optimizer, torch_total_param_num, torch_net_info, MetricLogger"
   ]
  },
  {
   "cell_type": "code",
   "execution_count": 2,
   "id": "8f0ea974-05f9-402a-a686-fc67d24b23a9",
   "metadata": {},
   "outputs": [],
   "source": [
    "import easydict\n",
    "\n",
    "args = easydict.EasyDict({ \n",
    "    \"data_name\":                      \"rotten\", \n",
    "    \"use_one_hot_fea\":                True,\n",
    "    \"gpu\":                            0,\n",
    "    \"seed\":                           123,\n",
    "    \"data_test_ratio\":                0.1,\n",
    "    \"data_valid_ratio\":               0.1,\n",
    "    \"model_activation\":               'leaky',\n",
    "    \"gcn_dropout\":                    0.5,\n",
    "    \"gcn_agg_norm_symm\":              True,\n",
    "    \"gcn_agg_units\":                  32,\n",
    "    \"gcn_agg_accum\":                  'sum',\n",
    "    \"gcn_out_units\":                  32, # 64, 128\n",
    "    \"gen_r_num_basis_func\":           2,\n",
    "    \"train_max_epoch\":                300,\n",
    "    \"train_log_interval\":             5,\n",
    "    \"train_valid_interval\":           5,\n",
    "    \"train_optimizer\":                'adam',\n",
    "    \"train_grad_clip\":                1.0,\n",
    "    \"train_lr\":                       0.01,\n",
    "    \"train_min_lr\":                   0.0008,\n",
    "    \"train_lr_decay_factor\":          0.5,\n",
    "    \"train_decay_patience\":           25,\n",
    "    \"train_early_stopping_patience\":  50,\n",
    "    \"share_param\":                    False,\n",
    "    \"mix_cpu_gpu\":                    False,\n",
    "    \"minibatch_size\":                 40000,\n",
    "    \"num_workers_per_gpu\":            8,\n",
    "    \"device\":                         0,\n",
    "    \"save_dir\":                       './save/',\n",
    "    \"save_id\":                        1,\n",
    "    \"train_max_iter\":                 1000\n",
    "})\n",
    "\n",
    "np.random.seed(args.seed)\n",
    "th.manual_seed(args.seed)\n",
    "\n",
    "if th.cuda.is_available():\n",
    "    th.cuda.manual_seed_all(args.seed)"
   ]
  },
  {
   "cell_type": "code",
   "execution_count": 3,
   "id": "2fd6b548-8b29-4613-875f-9ba7ad361a07",
   "metadata": {},
   "outputs": [
    {
     "name": "stdout",
     "output_type": "stream",
     "text": [
      "......1: 데이터 로드\n",
      "......3: Train/Valid 분리\n",
      "All rating pairs : 195947\n",
      "\tAll train rating pairs : 160000\n",
      "\t\tTrain rating pairs : 144000\n",
      "\t\tValid rating pairs : 16000\n",
      "\tTest rating pairs  : 35947\n",
      "......4: User/Movie를 Global id에 매핑\n",
      "Total user number = 3659, movie number = 33898\n",
      "......5: features 생성\n",
      "Feature dim: \n",
      "user: (3659, 3659)\n",
      "movie: (33898, 33898)\n",
      "......6: Graph Encoder/Decoder 생성\n",
      "rating_values :  [1.0, 2.0, 3.0, 4.0, 5.0]\n",
      "......7: Graph 결과 출력\n",
      "Train enc graph: \t#user:3659\t#movie:33898\t#pairs:144000\n",
      "Train dec graph: \t#user:3659\t#movie:33898\t#pairs:144000\n",
      "Valid enc graph: \t#user:3659\t#movie:33898\t#pairs:144000\n",
      "Valid dec graph: \t#user:3659\t#movie:33898\t#pairs:16000\n",
      "Test enc graph: \t#user:3659\t#movie:33898\t#pairs:144000\n",
      "Test dec graph: \t#user:3659\t#movie:33898\t#pairs:35947\n"
     ]
    }
   ],
   "source": [
    "from train import train\n",
    "\n",
    "dataset = RottenMovie(                 \n",
    "#              train_data='./data/trainset_filtered.csv',\n",
    "#              test_data='./data/testset_filtered.csv',\n",
    "             train_data='./data/amazon_trainset.csv',\n",
    "             test_data='./data/amazon_testset.csv',\n",
    "             movie_data = './data/amazon_movie_info.csv',\n",
    "             user_data = './data/amazon_user_info.csv',\n",
    "             emotion=False,\n",
    "             sentiment=False,\n",
    "\n",
    "             name='rotten', \n",
    "             device=0, \n",
    "             mix_cpu_gpu=False,\n",
    "             use_one_hot_fea=True, \n",
    "             symm=True,\n",
    "             valid_ratio=0.1,\n",
    "             )"
   ]
  },
  {
   "cell_type": "code",
   "execution_count": 4,
   "id": "e370ed6d-27a0-4299-aa64-cdaf554b62c3",
   "metadata": {},
   "outputs": [],
   "source": [
    "args.rating_vals = dataset.rating_values\n",
    "args.gcn_dropout = 0.50"
   ]
  },
  {
   "cell_type": "code",
   "execution_count": 5,
   "id": "db3c937d-d280-4b31-a42f-c4283f95fbf5",
   "metadata": {
    "tags": []
   },
   "outputs": [],
   "source": [
    "# bests=100\n",
    "# bests_es=100\n",
    "# start_time = time.time()\n",
    "\n",
    "# for dim in [256]:\n",
    "#     args.gcn_out_units = dim\n",
    "#     for agg in [128]:\n",
    "#         args.gcn_agg_units = agg\n",
    "#         for lr in [0.006*i for i in range(10)]:\n",
    "#             args.train_lr = lr\n",
    "#             args.save_dir = f'./test/test'\n",
    "#             args.save_id = 'new_feature'\n",
    "#             best = train(args, dataset)\n",
    "#             print(\"****************************\")\n",
    "#             args.save_dir = f'./test/test_es'\n",
    "#             args.save_id = 'new_feature_es'\n",
    "#             best_es = train(args, dataset_es)\n",
    "\n",
    "# #             print(best,'  VS  ', best_es)\n",
    "#             if bests>best:\n",
    "#                 bests = best\n",
    "#             if bests_es>best_es:\n",
    "#                 bests_es=best_es\n",
    "                \n",
    "# print(\"  Training epoch took: {:}\".format(format_time(time.time() - start_time)))\n",
    "# print(bests,'  VS  ', bests_es)"
   ]
  },
  {
   "cell_type": "code",
   "execution_count": 12,
   "id": "db8462e7-5905-4ca2-8c31-185e2b72b6d4",
   "metadata": {},
   "outputs": [
    {
     "name": "stdout",
     "output_type": "stream",
     "text": [
      "training...\n",
      "Best Iter Idx=40, Best Valid RMSE=1.0088, Best Test RMSE=0.9995\n",
      "  Training epoch took: 0:00:20\n"
     ]
    }
   ],
   "source": [
    "bests=100\n",
    "bests_es=100\n",
    "start_time = time.time()\n",
    "\n",
    "for dim in [256]:\n",
    "    args.gcn_out_units = dim\n",
    "    for agg in [128]:\n",
    "        args.gcn_agg_units = agg\n",
    "        for lr in [0.006]:\n",
    "            args.train_lr = lr\n",
    "            args.save_dir = f'./test/test'\n",
    "            args.save_id = 'new_feature'\n",
    "            best_rmse, test_df_1, test_real = train(args, dataset)\n",
    "#             print(\"****************************\")\n",
    "#             args.save_dir = f'./test/test_es'\n",
    "#             args.save_id = 'new_feature_es'\n",
    "#             best_es_rmse, test_df_2, test_real = train(args, dataset_es)\n",
    "                \n",
    "print(\"  Training epoch took: {:}\".format(format_time(time.time() - start_time)))\n",
    "# print(bests,'  VS  ', bests_es)"
   ]
  },
  {
   "cell_type": "code",
   "execution_count": 14,
   "id": "e3bb609e-3ff9-4c4a-82f9-33ac8ea8f525",
   "metadata": {},
   "outputs": [
    {
     "name": "stdout",
     "output_type": "stream",
     "text": [
      "training...\n",
      "Best Iter Idx=55, Best Valid RMSE=1.0066, Best Test RMSE=0.9985\n",
      "  Training epoch took: 0:00:26\n"
     ]
    }
   ],
   "source": [
    "bests=100\n",
    "bests_es=100\n",
    "start_time = time.time()\n",
    "\n",
    "for dim in [256]:\n",
    "    args.gcn_out_units = dim\n",
    "    for agg in [256]:\n",
    "        args.gcn_agg_units = agg\n",
    "        for lr in [0.006]:\n",
    "            args.train_lr = lr\n",
    "            args.save_dir = f'./test/test'\n",
    "            args.save_id = 'new_feature'\n",
    "            best_rmse, test_df_1, test_real = train(args, dataset)\n",
    "#             print(\"****************************\")\n",
    "#             args.save_dir = f'./test/test_es'\n",
    "#             args.save_id = 'new_feature_es'\n",
    "#             best_es_rmse, test_df_2, test_real = train(args, dataset_es)\n",
    "                \n",
    "print(\"  Training epoch took: {:}\".format(format_time(time.time() - start_time)))\n",
    "# print(bests,'  VS  ', bests_es)"
   ]
  },
  {
   "cell_type": "code",
   "execution_count": 8,
   "id": "4b81a188-05e5-4139-bf9d-87309b1fce1d",
   "metadata": {},
   "outputs": [
    {
     "name": "stdout",
     "output_type": "stream",
     "text": [
      "0.8199276339186489\n",
      "0.810794434027629\n"
     ]
    }
   ],
   "source": [
    "print(best_rmse)\n",
    "print(best_es_rmse)"
   ]
  },
  {
   "cell_type": "code",
   "execution_count": 10,
   "id": "8ba147d6-e95e-40b6-83da-09629d601297",
   "metadata": {},
   "outputs": [
    {
     "data": {
      "text/html": [
       "<div>\n",
       "<style scoped>\n",
       "    .dataframe tbody tr th:only-of-type {\n",
       "        vertical-align: middle;\n",
       "    }\n",
       "\n",
       "    .dataframe tbody tr th {\n",
       "        vertical-align: top;\n",
       "    }\n",
       "\n",
       "    .dataframe thead th {\n",
       "        text-align: right;\n",
       "    }\n",
       "</style>\n",
       "<table border=\"1\" class=\"dataframe\">\n",
       "  <thead>\n",
       "    <tr style=\"text-align: right;\">\n",
       "      <th></th>\n",
       "      <th>test_pred</th>\n",
       "    </tr>\n",
       "  </thead>\n",
       "  <tbody>\n",
       "    <tr>\n",
       "      <th>0</th>\n",
       "      <td>3.149060</td>\n",
       "    </tr>\n",
       "    <tr>\n",
       "      <th>1</th>\n",
       "      <td>3.620616</td>\n",
       "    </tr>\n",
       "    <tr>\n",
       "      <th>2</th>\n",
       "      <td>3.130883</td>\n",
       "    </tr>\n",
       "    <tr>\n",
       "      <th>3</th>\n",
       "      <td>3.307628</td>\n",
       "    </tr>\n",
       "    <tr>\n",
       "      <th>4</th>\n",
       "      <td>3.778800</td>\n",
       "    </tr>\n",
       "  </tbody>\n",
       "</table>\n",
       "</div>"
      ],
      "text/plain": [
       "   test_pred\n",
       "0   3.149060\n",
       "1   3.620616\n",
       "2   3.130883\n",
       "3   3.307628\n",
       "4   3.778800"
      ]
     },
     "execution_count": 10,
     "metadata": {},
     "output_type": "execute_result"
    }
   ],
   "source": [
    "test_df_2.head()"
   ]
  },
  {
   "cell_type": "code",
   "execution_count": 23,
   "id": "fb8df869-7fb8-4234-808a-5043cca001bd",
   "metadata": {},
   "outputs": [],
   "source": [
    "real_value = test_real.tolist()"
   ]
  },
  {
   "cell_type": "code",
   "execution_count": 36,
   "id": "f97ef22a-f03e-4e43-bf34-d49e2d46a299",
   "metadata": {},
   "outputs": [],
   "source": [
    "pred_value = list(test_df_1.test_pred)"
   ]
  },
  {
   "cell_type": "code",
   "execution_count": 37,
   "id": "50725c6a-3f9c-4964-b6aa-3798d1faf8ba",
   "metadata": {},
   "outputs": [
    {
     "data": {
      "text/plain": [
       "28766"
      ]
     },
     "execution_count": 37,
     "metadata": {},
     "output_type": "execute_result"
    }
   ],
   "source": [
    "len(real_value)"
   ]
  },
  {
   "cell_type": "code",
   "execution_count": 38,
   "id": "b4005fdd-df90-43bc-a5c6-eb45c1fe5b97",
   "metadata": {},
   "outputs": [
    {
     "data": {
      "text/plain": [
       "28766"
      ]
     },
     "execution_count": 38,
     "metadata": {},
     "output_type": "execute_result"
    }
   ],
   "source": [
    "len(pred_value)"
   ]
  },
  {
   "cell_type": "code",
   "execution_count": 39,
   "id": "231010db-6adc-43fb-9efb-b90d88ac41fb",
   "metadata": {},
   "outputs": [],
   "source": [
    "diff = np.array(real_value) - np.array(pred_value)"
   ]
  },
  {
   "cell_type": "code",
   "execution_count": 40,
   "id": "5283ccbc-e659-45b3-9ab3-35c7979c4789",
   "metadata": {},
   "outputs": [],
   "source": [
    "mae = np.mean(np.abs(diff))"
   ]
  },
  {
   "cell_type": "code",
   "execution_count": 41,
   "id": "306428a9-d7e6-41a7-b5e5-a0e8dbab6c8f",
   "metadata": {},
   "outputs": [
    {
     "data": {
      "text/plain": [
       "0.630816800216139"
      ]
     },
     "execution_count": 41,
     "metadata": {},
     "output_type": "execute_result"
    }
   ],
   "source": [
    "mae"
   ]
  },
  {
   "cell_type": "code",
   "execution_count": null,
   "id": "fda7bf07-b911-4e88-9b01-1dd0d5a0cadb",
   "metadata": {},
   "outputs": [],
   "source": []
  }
 ],
 "metadata": {
  "kernelspec": {
   "display_name": "Python 3 (ipykernel)",
   "language": "python",
   "name": "python3"
  },
  "language_info": {
   "codemirror_mode": {
    "name": "ipython",
    "version": 3
   },
   "file_extension": ".py",
   "mimetype": "text/x-python",
   "name": "python",
   "nbconvert_exporter": "python",
   "pygments_lexer": "ipython3",
   "version": "3.8.11"
  }
 },
 "nbformat": 4,
 "nbformat_minor": 5
}
