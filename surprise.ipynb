{
 "cells": [
  {
   "cell_type": "code",
   "execution_count": 1,
   "id": "ea2f545f",
   "metadata": {},
   "outputs": [],
   "source": [
    "# Created on Feb 2020\n",
    "# Author: 임일\n",
    "import os\n",
    "import numpy as np\n",
    "import pandas as pd\n",
    "\n",
    "# 필요한 Surprise 알고리즘 불러오기\n",
    "from surprise import BaselineOnly \n",
    "from surprise import KNNWithMeans, KNNBaseline, KNNBasic\n",
    "from surprise import SVD\n",
    "from surprise import SVDpp\n",
    "from surprise import NMF\n",
    "from surprise import Dataset\n",
    "from surprise import accuracy\n",
    "from surprise import Reader\n",
    "from surprise.model_selection import cross_validate\n",
    "from surprise.model_selection import train_test_split\n",
    "from surprise.model_selection import GridSearchCV"
   ]
  },
  {
   "cell_type": "code",
   "execution_count": 17,
   "id": "6898743b-da76-4637-8e02-da6101cff63c",
   "metadata": {},
   "outputs": [
    {
     "name": "stdout",
     "output_type": "stream",
     "text": [
      "  Training epoch took: 0:00:00\n"
     ]
    }
   ],
   "source": [
    "import time\n",
    "import datetime\n",
    "\n",
    "# 시간 표시 함수\n",
    "def format_time(elapsed):\n",
    "    # 반올림\n",
    "    elapsed_rounded = int(round((elapsed)))\n",
    "    # hh:mm:ss으로 형태 변경\n",
    "    return str(datetime.timedelta(seconds=elapsed_rounded))\n",
    "\n",
    "start_time = time.time()\n",
    "print(\"  Training epoch took: {:}\".format(format_time(time.time() - start_time)))"
   ]
  },
  {
   "cell_type": "markdown",
   "id": "fba2e556-ca9d-473a-8dfb-ba4250cbe35e",
   "metadata": {},
   "source": [
    "### 0. Load the data"
   ]
  },
  {
   "cell_type": "markdown",
   "id": "6c3bbf9c",
   "metadata": {},
   "source": [
    "- DF Load"
   ]
  },
  {
   "cell_type": "code",
   "execution_count": 2,
   "id": "bf983d2b",
   "metadata": {},
   "outputs": [
    {
     "data": {
      "text/plain": [
       "['.ipynb_checkpoints',\n",
       " 'final_rating(sentiment,emotion).csv',\n",
       " 'movie_info.csv',\n",
       " 'rotten_tomatoes_movies.csv',\n",
       " 'rotten_user_table.csv',\n",
       " 'testset_filtered.csv',\n",
       " 'trainset_filtered.csv',\n",
       " 'user_info.csv']"
      ]
     },
     "execution_count": 2,
     "metadata": {},
     "output_type": "execute_result"
    }
   ],
   "source": [
    "path = './data'\n",
    "os.listdir(path)"
   ]
  },
  {
   "cell_type": "code",
   "execution_count": 3,
   "id": "313e3464",
   "metadata": {},
   "outputs": [],
   "source": [
    "trainset = pd.read_csv(os.path.join(path, 'trainset_filtered.csv'), encoding='utf-8')\n",
    "testset = pd.read_csv(os.path.join(path, 'testset_filtered.csv'), encoding='utf-8')"
   ]
  },
  {
   "cell_type": "code",
   "execution_count": 4,
   "id": "542f510d",
   "metadata": {},
   "outputs": [
    {
     "data": {
      "text/plain": [
       "(216328, 8)"
      ]
     },
     "execution_count": 4,
     "metadata": {},
     "output_type": "execute_result"
    }
   ],
   "source": [
    "trainset.shape"
   ]
  },
  {
   "cell_type": "code",
   "execution_count": 5,
   "id": "7376d14c",
   "metadata": {},
   "outputs": [
    {
     "data": {
      "text/plain": [
       "(28766, 8)"
      ]
     },
     "execution_count": 5,
     "metadata": {},
     "output_type": "execute_result"
    }
   ],
   "source": [
    "testset.shape"
   ]
  },
  {
   "cell_type": "code",
   "execution_count": 6,
   "id": "ed09345d",
   "metadata": {},
   "outputs": [],
   "source": [
    "trainset = trainset[['user_id','movie_id','rating']]\n",
    "testset = testset[['user_id','movie_id','rating']]"
   ]
  },
  {
   "cell_type": "markdown",
   "id": "626c5ff4",
   "metadata": {},
   "source": [
    "- Surprise 데이터 형태 변형"
   ]
  },
  {
   "cell_type": "code",
   "execution_count": 7,
   "id": "706ef7a7",
   "metadata": {},
   "outputs": [],
   "source": [
    "reader = Reader(rating_scale=(0.5,5))\n",
    "data = Dataset.load_from_df(trainset, reader)\n",
    "surprise_trainset = data.build_full_trainset()"
   ]
  },
  {
   "cell_type": "code",
   "execution_count": 8,
   "id": "d1bc6296",
   "metadata": {},
   "outputs": [
    {
     "data": {
      "text/plain": [
       "216328"
      ]
     },
     "execution_count": 8,
     "metadata": {},
     "output_type": "execute_result"
    }
   ],
   "source": [
    "len(trainset)"
   ]
  },
  {
   "cell_type": "code",
   "execution_count": 9,
   "id": "c1ca42c9",
   "metadata": {},
   "outputs": [
    {
     "data": {
      "text/plain": [
       "28766"
      ]
     },
     "execution_count": 9,
     "metadata": {},
     "output_type": "execute_result"
    }
   ],
   "source": [
    "len(testset)"
   ]
  },
  {
   "cell_type": "code",
   "execution_count": 10,
   "id": "d424cbc9",
   "metadata": {},
   "outputs": [],
   "source": [
    "records = testset.to_records(index=False)\n",
    "surprise_testset = list(records)"
   ]
  },
  {
   "cell_type": "markdown",
   "id": "9dff3f83",
   "metadata": {},
   "source": [
    "## 1. Grid Search"
   ]
  },
  {
   "cell_type": "code",
   "execution_count": 14,
   "id": "f55ef9e8",
   "metadata": {},
   "outputs": [
    {
     "data": {
      "text/html": [
       "<div>\n",
       "<style scoped>\n",
       "    .dataframe tbody tr th:only-of-type {\n",
       "        vertical-align: middle;\n",
       "    }\n",
       "\n",
       "    .dataframe tbody tr th {\n",
       "        vertical-align: top;\n",
       "    }\n",
       "\n",
       "    .dataframe thead th {\n",
       "        text-align: right;\n",
       "    }\n",
       "</style>\n",
       "<table border=\"1\" class=\"dataframe\">\n",
       "  <thead>\n",
       "    <tr style=\"text-align: right;\">\n",
       "      <th></th>\n",
       "      <th>user_id</th>\n",
       "      <th>movie_id</th>\n",
       "      <th>rating</th>\n",
       "    </tr>\n",
       "  </thead>\n",
       "  <tbody>\n",
       "    <tr>\n",
       "      <th>0</th>\n",
       "      <td>7403</td>\n",
       "      <td>2494</td>\n",
       "      <td>5.0</td>\n",
       "    </tr>\n",
       "    <tr>\n",
       "      <th>1</th>\n",
       "      <td>6220</td>\n",
       "      <td>970</td>\n",
       "      <td>1.0</td>\n",
       "    </tr>\n",
       "    <tr>\n",
       "      <th>2</th>\n",
       "      <td>9296</td>\n",
       "      <td>7594</td>\n",
       "      <td>3.0</td>\n",
       "    </tr>\n",
       "    <tr>\n",
       "      <th>3</th>\n",
       "      <td>7403</td>\n",
       "      <td>8800</td>\n",
       "      <td>3.5</td>\n",
       "    </tr>\n",
       "    <tr>\n",
       "      <th>4</th>\n",
       "      <td>2343</td>\n",
       "      <td>11205</td>\n",
       "      <td>1.5</td>\n",
       "    </tr>\n",
       "  </tbody>\n",
       "</table>\n",
       "</div>"
      ],
      "text/plain": [
       "   user_id  movie_id  rating\n",
       "0     7403      2494     5.0\n",
       "1     6220       970     1.0\n",
       "2     9296      7594     3.0\n",
       "3     7403      8800     3.5\n",
       "4     2343     11205     1.5"
      ]
     },
     "execution_count": 14,
     "metadata": {},
     "output_type": "execute_result"
    }
   ],
   "source": [
    "trainset.head()"
   ]
  },
  {
   "cell_type": "code",
   "execution_count": 15,
   "id": "90469d88-4f1c-4e8f-bbf6-33a0e62e42b1",
   "metadata": {},
   "outputs": [],
   "source": [
    "from __future__ import (absolute_import, division, print_function,\n",
    "                        unicode_literals)\n",
    "import pandas as pd\n",
    "from surprise import SVD\n",
    "from surprise import dataset\n",
    "from surprise import Reader"
   ]
  },
  {
   "cell_type": "code",
   "execution_count": 16,
   "id": "9490d87f-8fe8-43a8-be92-7b969fd8ab82",
   "metadata": {},
   "outputs": [],
   "source": [
    "# Also, a dummy Dataset class\n",
    "class MyDataset(dataset.DatasetAutoFolds):\n",
    "    def __init__(self, df, reader):\n",
    "        self.raw_ratings = [(uid, iid, r, None) for (uid, iid, r) in\n",
    "                            zip(df['user_id'], df['movie_id'], df['rating'])]\n",
    "        self.reader=reader\n",
    "\n",
    "data = MyDataset(trainset, reader)"
   ]
  },
  {
   "cell_type": "markdown",
   "id": "8ea0e23d-8c43-4e62-b5a2-0512844455e9",
   "metadata": {},
   "source": [
    "## 2. CF (Grid-search)"
   ]
  },
  {
   "cell_type": "code",
   "execution_count": 43,
   "id": "d9d073ab",
   "metadata": {
    "collapsed": true,
    "jupyter": {
     "outputs_hidden": true
    },
    "tags": []
   },
   "outputs": [
    {
     "name": "stdout",
     "output_type": "stream",
     "text": [
      "Estimating biases using als...\n",
      "Computing the pearson_baseline similarity matrix...\n",
      "Done computing similarity matrix.\n",
      "Estimating biases using als...\n",
      "Computing the pearson_baseline similarity matrix...\n",
      "Done computing similarity matrix.\n",
      "Estimating biases using als...\n",
      "Computing the pearson_baseline similarity matrix...\n",
      "Done computing similarity matrix.\n",
      "Estimating biases using als...\n",
      "Computing the pearson_baseline similarity matrix...\n",
      "Done computing similarity matrix.\n",
      "Estimating biases using als...\n",
      "Computing the pearson_baseline similarity matrix...\n",
      "Done computing similarity matrix.\n",
      "Estimating biases using als...\n",
      "Computing the pearson_baseline similarity matrix...\n",
      "Done computing similarity matrix.\n",
      "Estimating biases using als...\n",
      "Computing the pearson_baseline similarity matrix...\n",
      "Done computing similarity matrix.\n",
      "Estimating biases using als...\n",
      "Computing the pearson_baseline similarity matrix...\n",
      "Done computing similarity matrix.\n",
      "Estimating biases using als...\n",
      "Computing the pearson_baseline similarity matrix...\n",
      "Done computing similarity matrix.\n",
      "Estimating biases using als...\n",
      "Computing the pearson_baseline similarity matrix...\n",
      "Done computing similarity matrix.\n",
      "Computing the cosine similarity matrix...\n",
      "Done computing similarity matrix.\n",
      "Computing the cosine similarity matrix...\n",
      "Done computing similarity matrix.\n",
      "Computing the cosine similarity matrix...\n",
      "Done computing similarity matrix.\n",
      "Computing the cosine similarity matrix...\n",
      "Done computing similarity matrix.\n",
      "Computing the cosine similarity matrix...\n",
      "Done computing similarity matrix.\n",
      "Computing the cosine similarity matrix...\n",
      "Done computing similarity matrix.\n",
      "Computing the cosine similarity matrix...\n",
      "Done computing similarity matrix.\n",
      "Computing the cosine similarity matrix...\n",
      "Done computing similarity matrix.\n",
      "Computing the cosine similarity matrix...\n",
      "Done computing similarity matrix.\n",
      "Computing the cosine similarity matrix...\n",
      "Done computing similarity matrix.\n",
      "Estimating biases using als...\n",
      "Computing the pearson_baseline similarity matrix...\n",
      "Done computing similarity matrix.\n",
      "Estimating biases using als...\n",
      "Computing the pearson_baseline similarity matrix...\n",
      "Done computing similarity matrix.\n",
      "Estimating biases using als...\n",
      "Computing the pearson_baseline similarity matrix...\n",
      "Done computing similarity matrix.\n",
      "Estimating biases using als...\n",
      "Computing the pearson_baseline similarity matrix...\n",
      "Done computing similarity matrix.\n",
      "Estimating biases using als...\n",
      "Computing the pearson_baseline similarity matrix...\n",
      "Done computing similarity matrix.\n",
      "Estimating biases using als...\n",
      "Computing the pearson_baseline similarity matrix...\n",
      "Done computing similarity matrix.\n",
      "Estimating biases using als...\n",
      "Computing the pearson_baseline similarity matrix...\n",
      "Done computing similarity matrix.\n",
      "Estimating biases using als...\n",
      "Computing the pearson_baseline similarity matrix...\n",
      "Done computing similarity matrix.\n",
      "Estimating biases using als...\n",
      "Computing the pearson_baseline similarity matrix...\n",
      "Done computing similarity matrix.\n",
      "Estimating biases using als...\n",
      "Computing the pearson_baseline similarity matrix...\n",
      "Done computing similarity matrix.\n",
      "Computing the cosine similarity matrix...\n",
      "Done computing similarity matrix.\n",
      "Computing the cosine similarity matrix...\n",
      "Done computing similarity matrix.\n",
      "Computing the cosine similarity matrix...\n",
      "Done computing similarity matrix.\n",
      "Computing the cosine similarity matrix...\n",
      "Done computing similarity matrix.\n",
      "Computing the cosine similarity matrix...\n",
      "Done computing similarity matrix.\n",
      "Computing the cosine similarity matrix...\n",
      "Done computing similarity matrix.\n",
      "Computing the cosine similarity matrix...\n",
      "Done computing similarity matrix.\n",
      "Computing the cosine similarity matrix...\n",
      "Done computing similarity matrix.\n",
      "Computing the cosine similarity matrix...\n",
      "Done computing similarity matrix.\n",
      "Computing the cosine similarity matrix...\n",
      "Done computing similarity matrix.\n",
      "Estimating biases using als...\n",
      "Computing the pearson_baseline similarity matrix...\n",
      "Done computing similarity matrix.\n",
      "Estimating biases using als...\n",
      "Computing the pearson_baseline similarity matrix...\n",
      "Done computing similarity matrix.\n",
      "Estimating biases using als...\n",
      "Computing the pearson_baseline similarity matrix...\n",
      "Done computing similarity matrix.\n",
      "Estimating biases using als...\n",
      "Computing the pearson_baseline similarity matrix...\n",
      "Done computing similarity matrix.\n",
      "Estimating biases using als...\n",
      "Computing the pearson_baseline similarity matrix...\n",
      "Done computing similarity matrix.\n",
      "Estimating biases using als...\n",
      "Computing the pearson_baseline similarity matrix...\n",
      "Done computing similarity matrix.\n",
      "Estimating biases using als...\n",
      "Computing the pearson_baseline similarity matrix...\n",
      "Done computing similarity matrix.\n",
      "Estimating biases using als...\n",
      "Computing the pearson_baseline similarity matrix...\n",
      "Done computing similarity matrix.\n",
      "Estimating biases using als...\n",
      "Computing the pearson_baseline similarity matrix...\n",
      "Done computing similarity matrix.\n",
      "Estimating biases using als...\n",
      "Computing the pearson_baseline similarity matrix...\n",
      "Done computing similarity matrix.\n",
      "Computing the cosine similarity matrix...\n",
      "Done computing similarity matrix.\n",
      "Computing the cosine similarity matrix...\n",
      "Done computing similarity matrix.\n",
      "Computing the cosine similarity matrix...\n",
      "Done computing similarity matrix.\n",
      "Computing the cosine similarity matrix...\n",
      "Done computing similarity matrix.\n",
      "Computing the cosine similarity matrix...\n",
      "Done computing similarity matrix.\n",
      "Computing the cosine similarity matrix...\n",
      "Done computing similarity matrix.\n",
      "Computing the cosine similarity matrix...\n",
      "Done computing similarity matrix.\n",
      "Computing the cosine similarity matrix...\n",
      "Done computing similarity matrix.\n",
      "Computing the cosine similarity matrix...\n",
      "Done computing similarity matrix.\n",
      "Computing the cosine similarity matrix...\n",
      "Done computing similarity matrix.\n"
     ]
    }
   ],
   "source": [
    "param_grid = {'k': [5, 10, 15],\n",
    "              'sim_options': {'name': ['pearson_baseline', 'cosine'],\n",
    "                              'user_based': [True, False]}\n",
    "              }\n",
    "gs = GridSearchCV(KNNWithMeans, param_grid, measures=['rmse'], cv=None)\n",
    "gs.fit(data)"
   ]
  },
  {
   "cell_type": "code",
   "execution_count": 44,
   "id": "001f665b",
   "metadata": {},
   "outputs": [
    {
     "name": "stdout",
     "output_type": "stream",
     "text": [
      "0.734074886147684\n",
      "{'k': 15, 'sim_options': {'name': 'pearson_baseline', 'user_based': False}}\n"
     ]
    }
   ],
   "source": [
    "# 최적 RMSE 출력\n",
    "print(gs.best_score['rmse'])\n",
    "\n",
    "# 최적 RMSE의 parameter\n",
    "print(gs.best_params['rmse'])"
   ]
  },
  {
   "cell_type": "code",
   "execution_count": 45,
   "id": "bc8c452b-3804-40e0-9b8f-841e10fda1a4",
   "metadata": {},
   "outputs": [
    {
     "name": "stdout",
     "output_type": "stream",
     "text": [
      "Estimating biases using als...\n",
      "Computing the pearson_baseline similarity matrix...\n",
      "Done computing similarity matrix.\n",
      "RMSE: 0.8945\n"
     ]
    },
    {
     "data": {
      "text/plain": [
       "0.8945216280322634"
      ]
     },
     "execution_count": 45,
     "metadata": {},
     "output_type": "execute_result"
    }
   ],
   "source": [
    "algo = gs.best_estimator['rmse']\n",
    "algo.fit(surprise_trainset)\n",
    "predictions = algo.test(surprise_testset)\n",
    "accuracy.rmse(predictions)"
   ]
  },
  {
   "cell_type": "code",
   "execution_count": 46,
   "id": "7ad40def-5121-4a20-90df-0893c023f2be",
   "metadata": {},
   "outputs": [],
   "source": [
    "col_times_name = [f\"test_pred_{num}\" for num in range(10)]"
   ]
  },
  {
   "cell_type": "code",
   "execution_count": 47,
   "id": "a4658982-6f46-4b52-bb0c-08794ff796ba",
   "metadata": {
    "collapsed": true,
    "jupyter": {
     "outputs_hidden": true
    },
    "tags": []
   },
   "outputs": [
    {
     "name": "stdout",
     "output_type": "stream",
     "text": [
      "Estimating biases using als...\n",
      "Computing the pearson_baseline similarity matrix...\n",
      "Done computing similarity matrix.\n",
      "RMSE: 0.8945\n",
      "Estimating biases using als...\n",
      "Computing the pearson_baseline similarity matrix...\n",
      "Done computing similarity matrix.\n",
      "RMSE: 0.8945\n",
      "Estimating biases using als...\n",
      "Computing the pearson_baseline similarity matrix...\n",
      "Done computing similarity matrix.\n",
      "RMSE: 0.8945\n",
      "Estimating biases using als...\n",
      "Computing the pearson_baseline similarity matrix...\n",
      "Done computing similarity matrix.\n",
      "RMSE: 0.8945\n",
      "Estimating biases using als...\n",
      "Computing the pearson_baseline similarity matrix...\n",
      "Done computing similarity matrix.\n",
      "RMSE: 0.8945\n",
      "Estimating biases using als...\n",
      "Computing the pearson_baseline similarity matrix...\n",
      "Done computing similarity matrix.\n",
      "RMSE: 0.8945\n",
      "Estimating biases using als...\n",
      "Computing the pearson_baseline similarity matrix...\n",
      "Done computing similarity matrix.\n",
      "RMSE: 0.8945\n",
      "Estimating biases using als...\n",
      "Computing the pearson_baseline similarity matrix...\n",
      "Done computing similarity matrix.\n",
      "RMSE: 0.8945\n",
      "Estimating biases using als...\n",
      "Computing the pearson_baseline similarity matrix...\n",
      "Done computing similarity matrix.\n",
      "RMSE: 0.8945\n",
      "Estimating biases using als...\n",
      "Computing the pearson_baseline similarity matrix...\n",
      "Done computing similarity matrix.\n",
      "RMSE: 0.8945\n"
     ]
    }
   ],
   "source": [
    "start_time = time.time()\n",
    "best_test_rmse = list()\n",
    "\n",
    "pred_list = list() # 모델별 예측 평점 리스트 10개\n",
    "rmse_list = list()\n",
    "mid_time = time.time()\n",
    "\n",
    "for i in range(10):\n",
    "    algo = gs.best_estimator['rmse']\n",
    "    algo.fit(surprise_trainset)\n",
    "    preds = algo.test(surprise_testset)\n",
    "    ratings = [pred.est for pred in preds] # 예측 평점 : n*1\n",
    "    pred_list.append(ratings)\n",
    "    rmse_list.append(accuracy.rmse(preds)) # rmse 누적 저장"
   ]
  },
  {
   "cell_type": "code",
   "execution_count": 54,
   "id": "0ee49060-7408-4055-8127-4aa115ebd311",
   "metadata": {},
   "outputs": [
    {
     "data": {
      "text/plain": [
       "[0.8945216280322634,\n",
       " 0.8945216280322634,\n",
       " 0.8945216280322634,\n",
       " 0.8945216280322634,\n",
       " 0.8945216280322634,\n",
       " 0.8945216280322634,\n",
       " 0.8945216280322634,\n",
       " 0.8945216280322634,\n",
       " 0.8945216280322634,\n",
       " 0.8945216280322634]"
      ]
     },
     "execution_count": 54,
     "metadata": {},
     "output_type": "execute_result"
    }
   ],
   "source": [
    "rmse_list"
   ]
  },
  {
   "cell_type": "code",
   "execution_count": 56,
   "id": "13a7b901-78fe-45bd-ad7f-b39cd0a7a464",
   "metadata": {},
   "outputs": [],
   "source": [
    "# 모델별 10번 예측 결과에 대한 df 생성 (shape: n*10)\n",
    "pred_df = pd.DataFrame(np.array(pred_list).T, columns=col_times_name)\n",
    "pred_df.to_csv(f\"./save_regression/KNNWithMeans(Item_based).csv\")"
   ]
  },
  {
   "cell_type": "markdown",
   "id": "a3d59ee5-6006-408f-a633-6d75544acd37",
   "metadata": {},
   "source": [
    "### 2-1. CF(user-based)"
   ]
  },
  {
   "cell_type": "code",
   "execution_count": 60,
   "id": "1919a587-f1a3-401f-b4e0-000d45486354",
   "metadata": {},
   "outputs": [
    {
     "name": "stdout",
     "output_type": "stream",
     "text": [
      "Estimating biases using als...\n",
      "Computing the pearson_baseline similarity matrix...\n",
      "Done computing similarity matrix.\n",
      "RMSE: 0.9515\n"
     ]
    }
   ],
   "source": [
    "start_time = time.time()\n",
    "best_test_rmse = list()\n",
    "\n",
    "pred_list = list() # 모델별 예측 평점 리스트 10개\n",
    "rmse_list = list()\n",
    "\n",
    "sim_options = {'name': 'pearson_baseline', 'user_based':True}\n",
    "\n",
    "algo = KNNWithMeans(k=15, sim_options=sim_options)\n",
    "algo.fit(surprise_trainset)\n",
    "preds = algo.test(surprise_testset)\n",
    "ratings = [pred.est for pred in preds] # 예측 평점 : n*1\n",
    "pred_list.append(ratings)\n",
    "rmse_list.append(accuracy.rmse(preds))"
   ]
  },
  {
   "cell_type": "code",
   "execution_count": 59,
   "id": "a24343d1-c46e-4230-90a2-e304bb7502c8",
   "metadata": {},
   "outputs": [],
   "source": [
    "pred_df = pd.DataFrame(np.array(pred_list).T, columns=['test_pred_1'])\n",
    "pred_df.to_csv(f\"./save_regression/KNNWithMeans(User_based).csv\")"
   ]
  },
  {
   "cell_type": "markdown",
   "id": "0a6d38a5-5a4d-41a8-847a-6f56a4fe388a",
   "metadata": {},
   "source": [
    "### 2-2. CF(item-based)"
   ]
  },
  {
   "cell_type": "code",
   "execution_count": null,
   "id": "282cb182-1f17-4867-a9f6-383f88db1402",
   "metadata": {},
   "outputs": [],
   "source": [
    "start_time = time.time()\n",
    "best_test_rmse = list()\n",
    "\n",
    "pred_list = list() # 모델별 예측 평점 리스트 10개\n",
    "rmse_list = list()\n",
    "\n",
    "sim_options = {'name': 'pearson_baseline', 'user_based':False}\n",
    "\n",
    "algo = KNNWithMeans(k=15, sim_options=sim_options)\n",
    "algo.fit(surprise_trainset)\n",
    "preds = algo.test(surprise_testset)\n",
    "ratings = [pred.est for pred in preds] # 예측 평점 : n*1\n",
    "pred_list.append(ratings)\n",
    "rmse_list.append(accuracy.rmse(preds))"
   ]
  },
  {
   "cell_type": "markdown",
   "id": "2890c8e7",
   "metadata": {},
   "source": [
    "## 3. SVD"
   ]
  },
  {
   "cell_type": "markdown",
   "id": "7dee4f67-80ed-4402-b798-5c33a268005f",
   "metadata": {},
   "source": [
    "### 3-1. SVD(Grid-search)"
   ]
  },
  {
   "cell_type": "code",
   "execution_count": 61,
   "id": "37bb5102",
   "metadata": {
    "tags": []
   },
   "outputs": [
    {
     "name": "stdout",
     "output_type": "stream",
     "text": [
      "0.7453267156599599\n",
      "{'lr_all': 0.007}\n",
      "  GS took: 0:01:51\n"
     ]
    }
   ],
   "source": [
    "start_time = time.time()\n",
    "\n",
    "param_grid = {'lr_all': [0.005, 0.006, 0.007]}\n",
    "gs = GridSearchCV(SVD, param_grid, measures=['rmse'], cv=None)\n",
    "gs.fit(data)\n",
    "\n",
    "# 최적 RMSE 출력\n",
    "print(gs.best_score['rmse'])\n",
    "\n",
    "# 최적 RMSE의 parameter\n",
    "print(gs.best_params['rmse'])\n",
    "\n",
    "print(\"  GS took: {:}\".format(format_time(time.time() - start_time)))"
   ]
  },
  {
   "cell_type": "code",
   "execution_count": null,
   "id": "68834cfb",
   "metadata": {},
   "outputs": [
    {
     "name": "stdout",
     "output_type": "stream",
     "text": [
      "RMSE: 0.8445\n",
      "  Training epoch took: 0:00:09\n"
     ]
    }
   ],
   "source": [
    "start_time = time.time()\n",
    "best_test_rmse = list()\n",
    "\n",
    "pred_list = list() # 모델별 예측 평점 리스트 10개\n",
    "rmse_list = list()\n",
    "mid_time = time.time()\n",
    "\n",
    "algo = gs.best_estimator['rmse']\n",
    "algo.fit(surprise_trainset)\n",
    "preds = algo.test(surprise_testset)\n",
    "ratings = [pred.est for pred in preds] # 예측 평점 : n*1\n",
    "pred_list.append(ratings)\n",
    "rmse_list.append(accuracy.rmse(preds)) # rmse 누적 저장\n",
    "print(\"  Training epoch took: {:}\".format(format_time(time.time() - start_time)))"
   ]
  },
  {
   "cell_type": "code",
   "execution_count": 65,
   "id": "053d0c33",
   "metadata": {},
   "outputs": [],
   "source": [
    "pred_df = pd.DataFrame(np.array(pred_list).T, columns=['test_pred_1'])\n",
    "pred_df.to_csv(f\"./save_surprise/SVD.csv\")"
   ]
  },
  {
   "cell_type": "markdown",
   "id": "d81c6d3d-55fb-484c-ac45-79b564f76c9f",
   "metadata": {},
   "source": [
    "### 3-2. SVD++"
   ]
  },
  {
   "cell_type": "code",
   "execution_count": 66,
   "id": "4339c6ca-ea42-489b-8db8-6e63317277e1",
   "metadata": {
    "collapsed": true,
    "jupyter": {
     "outputs_hidden": true
    },
    "tags": []
   },
   "outputs": [
    {
     "ename": "KeyboardInterrupt",
     "evalue": "",
     "output_type": "error",
     "traceback": [
      "\u001b[1;31m---------------------------------------------------------------------------\u001b[0m",
      "\u001b[1;31mKeyboardInterrupt\u001b[0m                         Traceback (most recent call last)",
      "\u001b[1;32m~\\AppData\\Local\\Temp/ipykernel_16344/3481768486.py\u001b[0m in \u001b[0;36m<module>\u001b[1;34m\u001b[0m\n\u001b[0;32m      3\u001b[0m \u001b[0mparam_grid\u001b[0m \u001b[1;33m=\u001b[0m \u001b[1;33m{\u001b[0m\u001b[1;34m'lr_all'\u001b[0m\u001b[1;33m:\u001b[0m \u001b[1;33m[\u001b[0m\u001b[1;36m0.005\u001b[0m\u001b[1;33m,\u001b[0m \u001b[1;36m0.006\u001b[0m\u001b[1;33m,\u001b[0m \u001b[1;36m0.007\u001b[0m\u001b[1;33m]\u001b[0m\u001b[1;33m}\u001b[0m\u001b[1;33m\u001b[0m\u001b[1;33m\u001b[0m\u001b[0m\n\u001b[0;32m      4\u001b[0m \u001b[0mgs\u001b[0m \u001b[1;33m=\u001b[0m \u001b[0mGridSearchCV\u001b[0m\u001b[1;33m(\u001b[0m\u001b[0mSVDpp\u001b[0m\u001b[1;33m,\u001b[0m \u001b[0mparam_grid\u001b[0m\u001b[1;33m,\u001b[0m \u001b[0mmeasures\u001b[0m\u001b[1;33m=\u001b[0m\u001b[1;33m[\u001b[0m\u001b[1;34m'rmse'\u001b[0m\u001b[1;33m]\u001b[0m\u001b[1;33m,\u001b[0m \u001b[0mcv\u001b[0m\u001b[1;33m=\u001b[0m\u001b[1;32mNone\u001b[0m\u001b[1;33m)\u001b[0m\u001b[1;33m\u001b[0m\u001b[1;33m\u001b[0m\u001b[0m\n\u001b[1;32m----> 5\u001b[1;33m \u001b[0mgs\u001b[0m\u001b[1;33m.\u001b[0m\u001b[0mfit\u001b[0m\u001b[1;33m(\u001b[0m\u001b[0mdata\u001b[0m\u001b[1;33m)\u001b[0m\u001b[1;33m\u001b[0m\u001b[1;33m\u001b[0m\u001b[0m\n\u001b[0m\u001b[0;32m      6\u001b[0m \u001b[1;33m\u001b[0m\u001b[0m\n\u001b[0;32m      7\u001b[0m \u001b[1;31m# 최적 RMSE 출력\u001b[0m\u001b[1;33m\u001b[0m\u001b[1;33m\u001b[0m\u001b[1;33m\u001b[0m\u001b[0m\n",
      "\u001b[1;32m~\\anaconda3\\envs\\graph\\lib\\site-packages\\surprise\\model_selection\\search.py\u001b[0m in \u001b[0;36mfit\u001b[1;34m(self, data)\u001b[0m\n\u001b[0;32m     86\u001b[0m                                                        cv.split(data))\n\u001b[0;32m     87\u001b[0m         )\n\u001b[1;32m---> 88\u001b[1;33m         out = Parallel(n_jobs=self.n_jobs,\n\u001b[0m\u001b[0;32m     89\u001b[0m                        \u001b[0mpre_dispatch\u001b[0m\u001b[1;33m=\u001b[0m\u001b[0mself\u001b[0m\u001b[1;33m.\u001b[0m\u001b[0mpre_dispatch\u001b[0m\u001b[1;33m,\u001b[0m\u001b[1;33m\u001b[0m\u001b[1;33m\u001b[0m\u001b[0m\n\u001b[0;32m     90\u001b[0m                        verbose=self.joblib_verbose)(delayed_list)\n",
      "\u001b[1;32m~\\anaconda3\\envs\\graph\\lib\\site-packages\\joblib\\parallel.py\u001b[0m in \u001b[0;36m__call__\u001b[1;34m(self, iterable)\u001b[0m\n\u001b[0;32m   1042\u001b[0m                 \u001b[0mself\u001b[0m\u001b[1;33m.\u001b[0m\u001b[0m_iterating\u001b[0m \u001b[1;33m=\u001b[0m \u001b[0mself\u001b[0m\u001b[1;33m.\u001b[0m\u001b[0m_original_iterator\u001b[0m \u001b[1;32mis\u001b[0m \u001b[1;32mnot\u001b[0m \u001b[1;32mNone\u001b[0m\u001b[1;33m\u001b[0m\u001b[1;33m\u001b[0m\u001b[0m\n\u001b[0;32m   1043\u001b[0m \u001b[1;33m\u001b[0m\u001b[0m\n\u001b[1;32m-> 1044\u001b[1;33m             \u001b[1;32mwhile\u001b[0m \u001b[0mself\u001b[0m\u001b[1;33m.\u001b[0m\u001b[0mdispatch_one_batch\u001b[0m\u001b[1;33m(\u001b[0m\u001b[0miterator\u001b[0m\u001b[1;33m)\u001b[0m\u001b[1;33m:\u001b[0m\u001b[1;33m\u001b[0m\u001b[1;33m\u001b[0m\u001b[0m\n\u001b[0m\u001b[0;32m   1045\u001b[0m                 \u001b[1;32mpass\u001b[0m\u001b[1;33m\u001b[0m\u001b[1;33m\u001b[0m\u001b[0m\n\u001b[0;32m   1046\u001b[0m \u001b[1;33m\u001b[0m\u001b[0m\n",
      "\u001b[1;32m~\\anaconda3\\envs\\graph\\lib\\site-packages\\joblib\\parallel.py\u001b[0m in \u001b[0;36mdispatch_one_batch\u001b[1;34m(self, iterator)\u001b[0m\n\u001b[0;32m    857\u001b[0m                 \u001b[1;32mreturn\u001b[0m \u001b[1;32mFalse\u001b[0m\u001b[1;33m\u001b[0m\u001b[1;33m\u001b[0m\u001b[0m\n\u001b[0;32m    858\u001b[0m             \u001b[1;32melse\u001b[0m\u001b[1;33m:\u001b[0m\u001b[1;33m\u001b[0m\u001b[1;33m\u001b[0m\u001b[0m\n\u001b[1;32m--> 859\u001b[1;33m                 \u001b[0mself\u001b[0m\u001b[1;33m.\u001b[0m\u001b[0m_dispatch\u001b[0m\u001b[1;33m(\u001b[0m\u001b[0mtasks\u001b[0m\u001b[1;33m)\u001b[0m\u001b[1;33m\u001b[0m\u001b[1;33m\u001b[0m\u001b[0m\n\u001b[0m\u001b[0;32m    860\u001b[0m                 \u001b[1;32mreturn\u001b[0m \u001b[1;32mTrue\u001b[0m\u001b[1;33m\u001b[0m\u001b[1;33m\u001b[0m\u001b[0m\n\u001b[0;32m    861\u001b[0m \u001b[1;33m\u001b[0m\u001b[0m\n",
      "\u001b[1;32m~\\anaconda3\\envs\\graph\\lib\\site-packages\\joblib\\parallel.py\u001b[0m in \u001b[0;36m_dispatch\u001b[1;34m(self, batch)\u001b[0m\n\u001b[0;32m    775\u001b[0m         \u001b[1;32mwith\u001b[0m \u001b[0mself\u001b[0m\u001b[1;33m.\u001b[0m\u001b[0m_lock\u001b[0m\u001b[1;33m:\u001b[0m\u001b[1;33m\u001b[0m\u001b[1;33m\u001b[0m\u001b[0m\n\u001b[0;32m    776\u001b[0m             \u001b[0mjob_idx\u001b[0m \u001b[1;33m=\u001b[0m \u001b[0mlen\u001b[0m\u001b[1;33m(\u001b[0m\u001b[0mself\u001b[0m\u001b[1;33m.\u001b[0m\u001b[0m_jobs\u001b[0m\u001b[1;33m)\u001b[0m\u001b[1;33m\u001b[0m\u001b[1;33m\u001b[0m\u001b[0m\n\u001b[1;32m--> 777\u001b[1;33m             \u001b[0mjob\u001b[0m \u001b[1;33m=\u001b[0m \u001b[0mself\u001b[0m\u001b[1;33m.\u001b[0m\u001b[0m_backend\u001b[0m\u001b[1;33m.\u001b[0m\u001b[0mapply_async\u001b[0m\u001b[1;33m(\u001b[0m\u001b[0mbatch\u001b[0m\u001b[1;33m,\u001b[0m \u001b[0mcallback\u001b[0m\u001b[1;33m=\u001b[0m\u001b[0mcb\u001b[0m\u001b[1;33m)\u001b[0m\u001b[1;33m\u001b[0m\u001b[1;33m\u001b[0m\u001b[0m\n\u001b[0m\u001b[0;32m    778\u001b[0m             \u001b[1;31m# A job can complete so quickly than its callback is\u001b[0m\u001b[1;33m\u001b[0m\u001b[1;33m\u001b[0m\u001b[1;33m\u001b[0m\u001b[0m\n\u001b[0;32m    779\u001b[0m             \u001b[1;31m# called before we get here, causing self._jobs to\u001b[0m\u001b[1;33m\u001b[0m\u001b[1;33m\u001b[0m\u001b[1;33m\u001b[0m\u001b[0m\n",
      "\u001b[1;32m~\\anaconda3\\envs\\graph\\lib\\site-packages\\joblib\\_parallel_backends.py\u001b[0m in \u001b[0;36mapply_async\u001b[1;34m(self, func, callback)\u001b[0m\n\u001b[0;32m    206\u001b[0m     \u001b[1;32mdef\u001b[0m \u001b[0mapply_async\u001b[0m\u001b[1;33m(\u001b[0m\u001b[0mself\u001b[0m\u001b[1;33m,\u001b[0m \u001b[0mfunc\u001b[0m\u001b[1;33m,\u001b[0m \u001b[0mcallback\u001b[0m\u001b[1;33m=\u001b[0m\u001b[1;32mNone\u001b[0m\u001b[1;33m)\u001b[0m\u001b[1;33m:\u001b[0m\u001b[1;33m\u001b[0m\u001b[1;33m\u001b[0m\u001b[0m\n\u001b[0;32m    207\u001b[0m         \u001b[1;34m\"\"\"Schedule a func to be run\"\"\"\u001b[0m\u001b[1;33m\u001b[0m\u001b[1;33m\u001b[0m\u001b[0m\n\u001b[1;32m--> 208\u001b[1;33m         \u001b[0mresult\u001b[0m \u001b[1;33m=\u001b[0m \u001b[0mImmediateResult\u001b[0m\u001b[1;33m(\u001b[0m\u001b[0mfunc\u001b[0m\u001b[1;33m)\u001b[0m\u001b[1;33m\u001b[0m\u001b[1;33m\u001b[0m\u001b[0m\n\u001b[0m\u001b[0;32m    209\u001b[0m         \u001b[1;32mif\u001b[0m \u001b[0mcallback\u001b[0m\u001b[1;33m:\u001b[0m\u001b[1;33m\u001b[0m\u001b[1;33m\u001b[0m\u001b[0m\n\u001b[0;32m    210\u001b[0m             \u001b[0mcallback\u001b[0m\u001b[1;33m(\u001b[0m\u001b[0mresult\u001b[0m\u001b[1;33m)\u001b[0m\u001b[1;33m\u001b[0m\u001b[1;33m\u001b[0m\u001b[0m\n",
      "\u001b[1;32m~\\anaconda3\\envs\\graph\\lib\\site-packages\\joblib\\_parallel_backends.py\u001b[0m in \u001b[0;36m__init__\u001b[1;34m(self, batch)\u001b[0m\n\u001b[0;32m    570\u001b[0m         \u001b[1;31m# Don't delay the application, to avoid keeping the input\u001b[0m\u001b[1;33m\u001b[0m\u001b[1;33m\u001b[0m\u001b[1;33m\u001b[0m\u001b[0m\n\u001b[0;32m    571\u001b[0m         \u001b[1;31m# arguments in memory\u001b[0m\u001b[1;33m\u001b[0m\u001b[1;33m\u001b[0m\u001b[1;33m\u001b[0m\u001b[0m\n\u001b[1;32m--> 572\u001b[1;33m         \u001b[0mself\u001b[0m\u001b[1;33m.\u001b[0m\u001b[0mresults\u001b[0m \u001b[1;33m=\u001b[0m \u001b[0mbatch\u001b[0m\u001b[1;33m(\u001b[0m\u001b[1;33m)\u001b[0m\u001b[1;33m\u001b[0m\u001b[1;33m\u001b[0m\u001b[0m\n\u001b[0m\u001b[0;32m    573\u001b[0m \u001b[1;33m\u001b[0m\u001b[0m\n\u001b[0;32m    574\u001b[0m     \u001b[1;32mdef\u001b[0m \u001b[0mget\u001b[0m\u001b[1;33m(\u001b[0m\u001b[0mself\u001b[0m\u001b[1;33m)\u001b[0m\u001b[1;33m:\u001b[0m\u001b[1;33m\u001b[0m\u001b[1;33m\u001b[0m\u001b[0m\n",
      "\u001b[1;32m~\\anaconda3\\envs\\graph\\lib\\site-packages\\joblib\\parallel.py\u001b[0m in \u001b[0;36m__call__\u001b[1;34m(self)\u001b[0m\n\u001b[0;32m    260\u001b[0m         \u001b[1;31m# change the default number of processes to -1\u001b[0m\u001b[1;33m\u001b[0m\u001b[1;33m\u001b[0m\u001b[1;33m\u001b[0m\u001b[0m\n\u001b[0;32m    261\u001b[0m         \u001b[1;32mwith\u001b[0m \u001b[0mparallel_backend\u001b[0m\u001b[1;33m(\u001b[0m\u001b[0mself\u001b[0m\u001b[1;33m.\u001b[0m\u001b[0m_backend\u001b[0m\u001b[1;33m,\u001b[0m \u001b[0mn_jobs\u001b[0m\u001b[1;33m=\u001b[0m\u001b[0mself\u001b[0m\u001b[1;33m.\u001b[0m\u001b[0m_n_jobs\u001b[0m\u001b[1;33m)\u001b[0m\u001b[1;33m:\u001b[0m\u001b[1;33m\u001b[0m\u001b[1;33m\u001b[0m\u001b[0m\n\u001b[1;32m--> 262\u001b[1;33m             return [func(*args, **kwargs)\n\u001b[0m\u001b[0;32m    263\u001b[0m                     for func, args, kwargs in self.items]\n\u001b[0;32m    264\u001b[0m \u001b[1;33m\u001b[0m\u001b[0m\n",
      "\u001b[1;32m~\\anaconda3\\envs\\graph\\lib\\site-packages\\joblib\\parallel.py\u001b[0m in \u001b[0;36m<listcomp>\u001b[1;34m(.0)\u001b[0m\n\u001b[0;32m    260\u001b[0m         \u001b[1;31m# change the default number of processes to -1\u001b[0m\u001b[1;33m\u001b[0m\u001b[1;33m\u001b[0m\u001b[1;33m\u001b[0m\u001b[0m\n\u001b[0;32m    261\u001b[0m         \u001b[1;32mwith\u001b[0m \u001b[0mparallel_backend\u001b[0m\u001b[1;33m(\u001b[0m\u001b[0mself\u001b[0m\u001b[1;33m.\u001b[0m\u001b[0m_backend\u001b[0m\u001b[1;33m,\u001b[0m \u001b[0mn_jobs\u001b[0m\u001b[1;33m=\u001b[0m\u001b[0mself\u001b[0m\u001b[1;33m.\u001b[0m\u001b[0m_n_jobs\u001b[0m\u001b[1;33m)\u001b[0m\u001b[1;33m:\u001b[0m\u001b[1;33m\u001b[0m\u001b[1;33m\u001b[0m\u001b[0m\n\u001b[1;32m--> 262\u001b[1;33m             return [func(*args, **kwargs)\n\u001b[0m\u001b[0;32m    263\u001b[0m                     for func, args, kwargs in self.items]\n\u001b[0;32m    264\u001b[0m \u001b[1;33m\u001b[0m\u001b[0m\n",
      "\u001b[1;32m~\\anaconda3\\envs\\graph\\lib\\site-packages\\surprise\\model_selection\\validation.py\u001b[0m in \u001b[0;36mfit_and_score\u001b[1;34m(algo, trainset, testset, measures, return_train_measures)\u001b[0m\n\u001b[0;32m    164\u001b[0m \u001b[1;33m\u001b[0m\u001b[0m\n\u001b[0;32m    165\u001b[0m     \u001b[0mstart_fit\u001b[0m \u001b[1;33m=\u001b[0m \u001b[0mtime\u001b[0m\u001b[1;33m.\u001b[0m\u001b[0mtime\u001b[0m\u001b[1;33m(\u001b[0m\u001b[1;33m)\u001b[0m\u001b[1;33m\u001b[0m\u001b[1;33m\u001b[0m\u001b[0m\n\u001b[1;32m--> 166\u001b[1;33m     \u001b[0malgo\u001b[0m\u001b[1;33m.\u001b[0m\u001b[0mfit\u001b[0m\u001b[1;33m(\u001b[0m\u001b[0mtrainset\u001b[0m\u001b[1;33m)\u001b[0m\u001b[1;33m\u001b[0m\u001b[1;33m\u001b[0m\u001b[0m\n\u001b[0m\u001b[0;32m    167\u001b[0m     \u001b[0mfit_time\u001b[0m \u001b[1;33m=\u001b[0m \u001b[0mtime\u001b[0m\u001b[1;33m.\u001b[0m\u001b[0mtime\u001b[0m\u001b[1;33m(\u001b[0m\u001b[1;33m)\u001b[0m \u001b[1;33m-\u001b[0m \u001b[0mstart_fit\u001b[0m\u001b[1;33m\u001b[0m\u001b[1;33m\u001b[0m\u001b[0m\n\u001b[0;32m    168\u001b[0m     \u001b[0mstart_test\u001b[0m \u001b[1;33m=\u001b[0m \u001b[0mtime\u001b[0m\u001b[1;33m.\u001b[0m\u001b[0mtime\u001b[0m\u001b[1;33m(\u001b[0m\u001b[1;33m)\u001b[0m\u001b[1;33m\u001b[0m\u001b[1;33m\u001b[0m\u001b[0m\n",
      "\u001b[1;32m~\\anaconda3\\envs\\graph\\lib\\site-packages\\surprise\\prediction_algorithms\\matrix_factorization.pyx\u001b[0m in \u001b[0;36msurprise.prediction_algorithms.matrix_factorization.SVDpp.fit\u001b[1;34m()\u001b[0m\n",
      "\u001b[1;32m~\\anaconda3\\envs\\graph\\lib\\site-packages\\surprise\\prediction_algorithms\\matrix_factorization.pyx\u001b[0m in \u001b[0;36msurprise.prediction_algorithms.matrix_factorization.SVDpp.sgd\u001b[1;34m()\u001b[0m\n",
      "\u001b[1;32m~\\anaconda3\\envs\\graph\\lib\\site-packages\\surprise\\trainset.py\u001b[0m in \u001b[0;36mall_ratings\u001b[1;34m(self)\u001b[0m\n\u001b[0;32m    187\u001b[0m         \u001b[1;32mfor\u001b[0m \u001b[0mu\u001b[0m\u001b[1;33m,\u001b[0m \u001b[0mu_ratings\u001b[0m \u001b[1;32min\u001b[0m \u001b[0miteritems\u001b[0m\u001b[1;33m(\u001b[0m\u001b[0mself\u001b[0m\u001b[1;33m.\u001b[0m\u001b[0mur\u001b[0m\u001b[1;33m)\u001b[0m\u001b[1;33m:\u001b[0m\u001b[1;33m\u001b[0m\u001b[1;33m\u001b[0m\u001b[0m\n\u001b[0;32m    188\u001b[0m             \u001b[1;32mfor\u001b[0m \u001b[0mi\u001b[0m\u001b[1;33m,\u001b[0m \u001b[0mr\u001b[0m \u001b[1;32min\u001b[0m \u001b[0mu_ratings\u001b[0m\u001b[1;33m:\u001b[0m\u001b[1;33m\u001b[0m\u001b[1;33m\u001b[0m\u001b[0m\n\u001b[1;32m--> 189\u001b[1;33m                 \u001b[1;32myield\u001b[0m \u001b[0mu\u001b[0m\u001b[1;33m,\u001b[0m \u001b[0mi\u001b[0m\u001b[1;33m,\u001b[0m \u001b[0mr\u001b[0m\u001b[1;33m\u001b[0m\u001b[1;33m\u001b[0m\u001b[0m\n\u001b[0m\u001b[0;32m    190\u001b[0m \u001b[1;33m\u001b[0m\u001b[0m\n\u001b[0;32m    191\u001b[0m     \u001b[1;32mdef\u001b[0m \u001b[0mbuild_testset\u001b[0m\u001b[1;33m(\u001b[0m\u001b[0mself\u001b[0m\u001b[1;33m)\u001b[0m\u001b[1;33m:\u001b[0m\u001b[1;33m\u001b[0m\u001b[1;33m\u001b[0m\u001b[0m\n",
      "\u001b[1;31mKeyboardInterrupt\u001b[0m: "
     ]
    }
   ],
   "source": [
    "start_time = time.time()\n",
    "\n",
    "param_grid = {'lr_all': [0.005, 0.006, 0.007]}\n",
    "gs = GridSearchCV(SVDpp, param_grid, measures=['rmse'], cv=None)\n",
    "gs.fit(data)\n",
    "\n",
    "# 최적 RMSE 출력\n",
    "print(gs.best_score['rmse'])\n",
    "\n",
    "# 최적 RMSE의 parameter\n",
    "print(gs.best_params['rmse'])\n",
    "\n",
    "print(\"  GS took: {:}\".format(format_time(time.time() - start_time)))"
   ]
  },
  {
   "cell_type": "code",
   "execution_count": 68,
   "id": "3765cc49-310d-402e-a32f-5b63d23ceeea",
   "metadata": {},
   "outputs": [
    {
     "name": "stdout",
     "output_type": "stream",
     "text": [
      "RMSE: 0.8330\n",
      "  Training epoch took: 0:30:28\n"
     ]
    }
   ],
   "source": [
    "start_time = time.time()\n",
    "best_test_rmse = list()\n",
    "\n",
    "pred_list = list() # 모델별 예측 평점 리스트 10개\n",
    "rmse_list = list()\n",
    "mid_time = time.time()\n",
    "\n",
    "algo = SVDpp(lr_all=0.005)\n",
    "algo.fit(surprise_trainset)\n",
    "preds = algo.test(surprise_testset)\n",
    "ratings = [pred.est for pred in preds] # 예측 평점 : n*1\n",
    "pred_list.append(ratings)\n",
    "rmse_list.append(accuracy.rmse(preds)) # rmse 누적 저장\n",
    "print(\"  Training epoch took: {:}\".format(format_time(time.time() - start_time)))"
   ]
  },
  {
   "cell_type": "code",
   "execution_count": 69,
   "id": "0f620a4d-05c2-4a9f-b662-bbf6bfc7d3b0",
   "metadata": {},
   "outputs": [],
   "source": [
    "pred_df = pd.DataFrame(np.array(pred_list).T, columns=['test_pred_1'])\n",
    "pred_df.to_csv(f\"./save_surprise/SVDpp_0.5.csv\")"
   ]
  },
  {
   "cell_type": "markdown",
   "id": "9df99eb4-659a-4b00-a754-54ca6d4ca230",
   "metadata": {},
   "source": [
    "### 3-3. SVD 개별 탐색"
   ]
  },
  {
   "cell_type": "code",
   "execution_count": 70,
   "id": "26594c7c-ed92-4c28-a6de-aff4d2830e2f",
   "metadata": {},
   "outputs": [
    {
     "name": "stdout",
     "output_type": "stream",
     "text": [
      "RMSE: 0.8293\n",
      "  Training epoch took: 0:30:23\n"
     ]
    }
   ],
   "source": [
    "start_time = time.time()\n",
    "best_test_rmse = list()\n",
    "\n",
    "pred_list = list() # 모델별 예측 평점 리스트 10개\n",
    "rmse_list = list()\n",
    "mid_time = time.time()\n",
    "\n",
    "algo = SVDpp(lr_all=0.007)\n",
    "algo.fit(surprise_trainset)\n",
    "preds = algo.test(surprise_testset)\n",
    "ratings = [pred.est for pred in preds] # 예측 평점 : n*1\n",
    "pred_list.append(ratings)\n",
    "rmse_list.append(accuracy.rmse(preds)) # rmse 누적 저장\n",
    "print(\"  Training epoch took: {:}\".format(format_time(time.time() - start_time)))"
   ]
  },
  {
   "cell_type": "code",
   "execution_count": 71,
   "id": "1e987aa1-1829-4241-b409-b08422a72475",
   "metadata": {},
   "outputs": [],
   "source": [
    "pred_df = pd.DataFrame(np.array(pred_list).T, columns=['test_pred_1'])\n",
    "pred_df.to_csv(f\"./save_surprise/SVDpp_0.7.csv\")"
   ]
  },
  {
   "cell_type": "markdown",
   "id": "74a6e256",
   "metadata": {},
   "source": [
    "## 4. 여러 알고리즘 고려"
   ]
  },
  {
   "cell_type": "code",
   "execution_count": 16,
   "id": "79dcc9d3",
   "metadata": {},
   "outputs": [],
   "source": [
    "from surprise import SVD, SVDpp, SlopeOne, NMF, NormalPredictor, KNNBasic, KNNBaseline, KNNWithMeans, KNNWithZScore, BaselineOnly, CoClustering\n",
    "# from sklearn.model_selection import cross_validate 사이킷런의 크로스벨리데이션이 아니다.\n",
    "from surprise.model_selection import cross_validate"
   ]
  },
  {
   "cell_type": "code",
   "execution_count": 55,
   "id": "0136eb2a",
   "metadata": {},
   "outputs": [],
   "source": [
    "col_times_name = [f\"test_pred_{num}\" for num in range(3)]"
   ]
  },
  {
   "cell_type": "code",
   "execution_count": 57,
   "id": "eab4c42d",
   "metadata": {},
   "outputs": [],
   "source": [
    "col_model_name = [option.__name__ for option in algorithms]"
   ]
  },
  {
   "cell_type": "code",
   "execution_count": 58,
   "id": "bcf5938d",
   "metadata": {},
   "outputs": [
    {
     "data": {
      "text/plain": [
       "['SlopeOne', 'NMF']"
      ]
     },
     "execution_count": 58,
     "metadata": {},
     "output_type": "execute_result"
    }
   ],
   "source": [
    "col_model_name"
   ]
  },
  {
   "cell_type": "code",
   "execution_count": 56,
   "id": "a8824d82",
   "metadata": {},
   "outputs": [
    {
     "data": {
      "text/plain": [
       "['test_pred_0', 'test_pred_1', 'test_pred_2']"
      ]
     },
     "execution_count": 56,
     "metadata": {},
     "output_type": "execute_result"
    }
   ],
   "source": [
    "col_times_name"
   ]
  },
  {
   "cell_type": "markdown",
   "id": "8cedbfb9-e520-4459-a08e-f3c207c950f7",
   "metadata": {},
   "source": [
    "### 4-1. 모델별 탐색"
   ]
  },
  {
   "cell_type": "code",
   "execution_count": 59,
   "id": "f24e25df",
   "metadata": {},
   "outputs": [
    {
     "name": "stdout",
     "output_type": "stream",
     "text": [
      "SlopeOne\n"
     ]
    },
    {
     "name": "stderr",
     "output_type": "stream",
     "text": [
      "/home/kirc-9/anaconda3/envs/torch37/lib/python3.7/site-packages/ipykernel_launcher.py:19: DeprecationWarning: `np.int` is a deprecated alias for the builtin `int`. To silence this warning, use `int` by itself. Doing this will not modify any behavior and is safe. When replacing `np.int`, you may wish to use e.g. `np.int64` or `np.int32` to specify the precision. If you wish to review your current use, check the release note link for additional information.\n",
      "Deprecated in NumPy 1.20; for more details and guidance: https://numpy.org/devdocs/release/1.20.0-notes.html#deprecations\n"
     ]
    },
    {
     "name": "stdout",
     "output_type": "stream",
     "text": [
      "RMSE: 0.9273\n",
      "RMSE: 0.9273\n",
      "RMSE: 0.9273\n",
      "  1 model time epoch took: 0:00:44\n",
      "NMF\n",
      "RMSE: 0.9181\n",
      "RMSE: 0.9138\n",
      "RMSE: 0.9082\n",
      "  1 model time epoch took: 0:00:25\n",
      "  Training epoch took: 0:01:09\n"
     ]
    }
   ],
   "source": [
    "start_time = time.time()\n",
    "\n",
    "# 알고리즘 비교\n",
    "algorithms = [SlopeOne, NMF, NormalPredictor, KNNBasic, KNNBaseline, KNNWithMeans, KNNWithZScore, BaselineOnly, CoClustering, SVD, SVDpp]\n",
    "names = list()\n",
    "best_test_rmse = list()\n",
    "\n",
    "for option in algorithms:\n",
    "    name = option.__name__\n",
    "    names.append(name)\n",
    "    print(name)\n",
    "    \n",
    "    algo = option()\n",
    "    pred_list = list() # 모델별 예측 평점 리스트 10개\n",
    "    rmse_list = list()\n",
    "    mid_time = time.time()\n",
    "    \n",
    "    for i in range(10):\n",
    "        algo.fit(surprise_trainset)\n",
    "        preds = algo.test(surprise_testset)\n",
    "        ratings = [pred.est for pred in preds] # 예측 평점 : n*1\n",
    "        pred_list.append(ratings)\n",
    "        rmse_list.append(accuracy.rmse(preds)) # rmse 누적 저장\n",
    "    \n",
    "    # 모델별 10번 예측 결과에 대한 df 생성 (shape: n*10)\n",
    "    pred_df = pd.DataFrame(np.array(pred_list).T, columns=col_times_name)\n",
    "    pred_df.to_csv(f\"./save/{name}.csv\")\n",
    "    \n",
    "    # 모델별 10번 rmse에 대한 df 생성 (shape: 10*모델수)\n",
    "    best_test_rmse.append(rmse_list)\n",
    "    print(\"  1 model time epoch took: {:}\".format(format_time(time.time() - mid_time)))\n",
    "    \n",
    "    \n",
    "best_test_rmse_df = pd.DataFrame(np.array(best_test_rmse).T, columns=col_model_name)\n",
    "best_test_rmse_df.to_csv(f\"./save_regression/best_test_rmse_df.csv\")\n",
    "print(\"  Training epoch took: {:}\".format(format_time(time.time() - start_time)))"
   ]
  },
  {
   "cell_type": "markdown",
   "id": "c7f6609e-3a56-40ff-b2fb-50dd8a0f7d7f",
   "metadata": {},
   "source": [
    "### 4-2. 결과 그래프 표시"
   ]
  },
  {
   "cell_type": "code",
   "execution_count": 34,
   "id": "887460cb",
   "metadata": {},
   "outputs": [
    {
     "data": {
      "text/plain": [
       "array([0.71399383, 0.71695488, 0.71990512, 0.72800815, 0.72940057,\n",
       "       0.73280625, 0.73628146, 0.73950474, 0.74244314, 0.80956118,\n",
       "       1.38812599])"
      ]
     },
     "execution_count": 34,
     "metadata": {},
     "output_type": "execute_result"
    },
    {
     "data": {
      "image/png": "[encoded data removed]",
      "text/plain": [
       "<Figure size 720x360 with 1 Axes>"
      ]
     },
     "metadata": {
      "needs_background": "light"
     },
     "output_type": "display_data"
    }
   ],
   "source": [
    "# 결과를 그래프로 표시\n",
    "import matplotlib.pyplot as plt\n",
    "index = np.argsort(results)\n",
    "# plt.ylim(0.5, 0.8)\n",
    "fig = plt.figure(figsize = (10,5))\n",
    "plt.plot(names[index], results[index])\n",
    "plt.xlabel('Algorithms')\n",
    "plt.ylabel('RMSE')\n",
    "plt.title('Comparison of RMSE')\n",
    "results[index]"
   ]
  }
 ],
 "metadata": {
  "kernelspec": {
   "display_name": "Python 3 (ipykernel)",
   "language": "python",
   "name": "python3"
  },
  "language_info": {
   "codemirror_mode": {
    "name": "ipython",
    "version": 3
   },
   "file_extension": ".py",
   "mimetype": "text/x-python",
   "name": "python",
   "nbconvert_exporter": "python",
   "pygments_lexer": "ipython3",
   "version": "3.8.11"
  }
 },
 "nbformat": 4,
 "nbformat_minor": 5
}
